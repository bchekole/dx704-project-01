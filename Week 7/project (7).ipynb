{
  "cells": [
    {
      "cell_type": "markdown",
      "metadata": {
        "id": "Md413FzAvFD8"
      },
      "source": [
        "# DX 704 Week 7 Project\n",
        "\n",
        "This week's project will investigate issues in a quadcopter controller based using a linear quadratic regulator.\n",
        "You will start with an existing model of the system and logs from a quadcopter based on it, investigate discrepancies, and ultimately train a new model of the system dynamics."
      ]
    },
    {
      "cell_type": "markdown",
      "metadata": {
        "id": "PTIhFidP-KvD"
      },
      "source": [
        "The full project description and a template notebook are available on GitHub: [Project 7 Materials](https://github.com/bu-cds-dx704/dx704-project-07).\n"
      ]
    },
    {
      "cell_type": "markdown",
      "metadata": {
        "id": "52eGFDLZdsBy"
      },
      "source": [
        "## Example Code\n",
        "\n",
        "You may find it helpful to refer to these GitHub repositories of Jupyter notebooks for example code.\n",
        "\n",
        "* https://github.com/bu-cds-omds/dx601-examples\n",
        "* https://github.com/bu-cds-omds/dx602-examples\n",
        "* https://github.com/bu-cds-omds/dx603-examples\n",
        "* https://github.com/bu-cds-omds/dx704-examples\n",
        "\n",
        "Any calculations demonstrated in code examples or videos may be found in these notebooks, and you are allowed to copy this example code in your homework answers."
      ]
    },
    {
      "cell_type": "markdown",
      "metadata": {
        "id": "d7IKpQFK_AGF"
      },
      "source": [
        "## Introduction\n",
        "\n",
        "You've just joined a drone startup.\n",
        "On your first day, you join your new team to watch a test flight for a new quadcopter prototype.\n",
        "Watching the prototype fly, the team comments that it is not as smooth as usual and suspects that something is off in the controller.\n",
        "They provide you a copy of the dynamics model and log data from the prototype to investigate."
      ]
    },
    {
      "cell_type": "markdown",
      "metadata": {
        "id": "_Ks7EK6h3ktC"
      },
      "source": [
        "The quadcopter control model is a slightly more sophisticated version of the 1D quadcopter problem previously considered.\n",
        "\n",
        "The state vector $\\mathbf{x}_t$ now includes an acceleration component, and the action vector now has a servo control for the throttle instead of a raw force component.\n",
        "\\begin{array}{rcl}\n",
        "\\mathbf{x}_t & = & \\begin{bmatrix} x_t \\\\ v_t \\\\ a_t \\end{bmatrix} \\\\\n",
        "\\mathbf{u_t} & = & \\begin{bmatrix} u_t \\end{bmatrix}\n",
        "\\end{array}"
      ]
    },
    {
      "cell_type": "markdown",
      "metadata": {
        "id": "C8oSLkMqvMFF"
      },
      "source": [
        "## Part 1: Reconstruct the Control Matrix\n",
        "\n",
        "You are provided the dynamics model in the files `model-A.tsv`, `model-B.tsv`, `cost-Q.tsv` and `cost-R.tsv`.\n",
        "Recompute the control matrix $\\mathbf{K}$ to be used in the infinite horizon linear quadratic regulator problem."
      ]
    },
    {
      "cell_type": "code",
      "execution_count": 38,
      "metadata": {
        "id": "Pdpurx_Ym3F6"
      },
      "outputs": [],
      "source": [
        "# Part 1 — recompute K (u = -K x) and save control-K-intended.tsv\n",
        "import pandas as pd, numpy as np\n",
        "from scipy.linalg import solve_discrete_are\n",
        "\n",
        "A_df = pd.read_csv(\"model-A.tsv\", sep=\"\\t\", index_col=0)\n",
        "B_df = pd.read_csv(\"model-B.tsv\", sep=\"\\t\", index_col=0)\n",
        "Q_df = pd.read_csv(\"cost-Q.tsv\", sep=\"\\t\", index_col=0)\n",
        "R_df = pd.read_csv(\"cost-R.tsv\", sep=\"\\t\", index_col=0)\n",
        "\n",
        "# Ensure column/row order is [x, v, a]\n",
        "order = [\"x\",\"v\",\"a\"]\n",
        "A_df = A_df.loc[order, order]\n",
        "Q_df = Q_df.loc[order, order]\n",
        "# B is a single column (u) indexed by x,v,a\n",
        "B_df = B_df.loc[order, [\"u\"]]\n",
        "\n",
        "A, B, Q, R = A_df.values, B_df.values, Q_df.values, R_df.values\n",
        "P = solve_discrete_are(A, B, Q, R)\n",
        "K = np.linalg.solve(R + B.T @ P @ B, B.T @ P @ A)  # u = -K x\n",
        "\n"
      ]
    },
    {
      "cell_type": "markdown",
      "metadata": {
        "id": "BDS1s6W9m5G1"
      },
      "source": [
        "Save $\\mathbf{K}$ in a file \"control-K-intended.tsv\" with columns x, v and a."
      ]
    },
    {
      "cell_type": "code",
      "execution_count": 39,
      "metadata": {
        "id": "heCP8JhgnEIC"
      },
      "outputs": [
        {
          "name": "stdout",
          "output_type": "stream",
          "text": [
            "Saved control-K-intended.tsv\n"
          ]
        }
      ],
      "source": [
        "# YOUR CHANGES HERE\n",
        "pd.DataFrame(K, index=[\"u\"], columns=order).to_csv(\n",
        "    \"control-K-intended.tsv\", sep=\"\\t\", index=True\n",
        ")\n",
        "print(\"Saved control-K-intended.tsv\")"
      ]
    },
    {
      "cell_type": "markdown",
      "metadata": {
        "id": "emwSwtKjnG8y"
      },
      "source": [
        "Submit \"control-K-intended.tsv\" in Gradescope."
      ]
    },
    {
      "cell_type": "markdown",
      "metadata": {
        "id": "fqbtALHx_z7l"
      },
      "source": [
        "## Part 2: Recompute the Actions for the Logged States\n",
        "\n",
        "You get access to the log data for the prototype as the file \"qc-log.tsv\".\n",
        "It conveniently saves all the state and actions made.\n",
        "Recompute the actions based on your $\\mathbf{K}$ matrix computed in part 1."
      ]
    },
    {
      "cell_type": "code",
      "execution_count": 40,
      "metadata": {
        "id": "DsbCg2TjoFpp"
      },
      "outputs": [],
      "source": [
        "# YOUR CHANGES HERE\n",
        "import pandas as pd\n",
        "import numpy as np\n",
        "\n",
        "# Load intended K from Part 1\n",
        "K = pd.read_csv(\"control-K-intended.tsv\", sep=\"\\t\", index_col=0).loc[\"u\", [\"x\",\"v\",\"a\"]].to_numpy()\n",
        "\n",
        "# Load logs\n",
        "log = pd.read_csv(\"qc-log.tsv\", sep=\"\\t\")\n",
        "\n",
        "# Build state matrix in [x, v, a] order\n",
        "X = log[[\"x\",\"v\",\"a\"]].to_numpy(dtype=float)\n",
        "\n",
        "# LQR: u = -K x\n",
        "u_check = -(X @ K)\n",
        "\n",
        "# Create required output with exact columns\n",
        "out = pd.DataFrame({\n",
        "    \"index\": log[\"index\"] if \"index\" in log.columns else np.arange(len(log)),\n",
        "    \"u_check\": u_check\n",
        "})"
      ]
    },
    {
      "cell_type": "markdown",
      "metadata": {
        "id": "6Z2gHEGBoIjL"
      },
      "source": [
        "Save your computed actions as \"qc-check.tsv\" with columns \"index\" and \"u_check\"."
      ]
    },
    {
      "cell_type": "code",
      "execution_count": 41,
      "metadata": {
        "id": "vbyMYtMLoS72"
      },
      "outputs": [
        {
          "name": "stdout",
          "output_type": "stream",
          "text": [
            "Saved qc-check.tsv\n"
          ]
        }
      ],
      "source": [
        "# YOUR CHANGES HERE\n",
        "\n",
        "out.to_csv(\"qc-check.tsv\", sep=\"\\t\", index=False)\n",
        "print(\"Saved qc-check.tsv\")"
      ]
    },
    {
      "cell_type": "markdown",
      "metadata": {
        "id": "PDCUyNOfoUzm"
      },
      "source": [
        "Submit \"qc-check.tsv\" in Gradescope."
      ]
    },
    {
      "cell_type": "markdown",
      "metadata": {
        "id": "7Z20uZNHABA-"
      },
      "source": [
        "## Part 3: Reverse Engineer the Actual Control Matrix\n",
        "\n",
        "Now that you have found a systematic difference between your computed actions and the logged actions, estimate $\n",
        "$, the control matrix that was actually used to choose actions in the prototype."
      ]
    },
    {
      "cell_type": "markdown",
      "metadata": {
        "id": "lGoHdtel2iVm"
      },
      "source": [
        "Hint: With a linear quadratic regulator, the optimal actions are always linear combinations of the state that are calculated using the control matrix.\n",
        "You can use linear regression to reverse-engineer the coefficients in the control matrix."
      ]
    },
    {
      "cell_type": "code",
      "execution_count": 42,
      "metadata": {
        "id": "Ab7XnMej21RN"
      },
      "outputs": [],
      "source": [
        "import pandas as pd, numpy as np\n",
        "\n",
        "log = pd.read_csv(\"qc-log.tsv\", sep=\"\\t\")\n",
        "u_col = \"u\" if \"u\" in log.columns else \"u_check\"  # accept either\n",
        "\n",
        "X = log[[\"x\",\"v\",\"a\"]].to_numpy(float)\n",
        "y = log[u_col].to_numpy(float)\n",
        "\n",
        "beta, *_ = np.linalg.lstsq(X, y, rcond=None)   # u ≈ X @ beta  (no intercept)\n"
      ]
    },
    {
      "cell_type": "markdown",
      "metadata": {
        "id": "M7zG_6NT23fq"
      },
      "source": [
        "Save $\\mathbf{K}_{\\mathrm{actual}}$ in \"control-K-actual.tsv\" with the same format as \"control-K-intended.tsv\"."
      ]
    },
    {
      "cell_type": "code",
      "execution_count": 43,
      "metadata": {
        "id": "hPAaZI3M3DKB"
      },
      "outputs": [],
      "source": [
        "# YOUR CHANGES HERE\n",
        "\n",
        "K_actual = pd.DataFrame([-beta], index=[\"u\"], columns=[\"x\",\"v\",\"a\"])\n",
        "K_actual.to_csv(\"control-K-actual.tsv\", sep=\"\\t\", index=True)"
      ]
    },
    {
      "cell_type": "markdown",
      "metadata": {
        "id": "EFmODg3W3D2u"
      },
      "source": [
        "Submit \"actual-K.tsv\" in Gradescope."
      ]
    },
    {
      "cell_type": "markdown",
      "metadata": {
        "id": "wSuXyz6LAYjK"
      },
      "source": [
        "## Part 4: Recompute the System Dynamics from the Log Data\n",
        "\n",
        "On further investigation, it turns out that the control matrix $\\mathbf{K}$ in the prototype was modified to compensate for state prediction errors.\n",
        "You would like to recompute the $\\mathbf{A}$ and $\\mathbf{B}$ matrices using the log data since they are used to predict the next states.\n",
        "However, since the action vector $\\mathbf{u}_t$ is linearly dependent on the state via $\\mathbf{u}_t=-\\mathbf{K} \\mathbf{x}_t$, you need a new data set so you can separate the effects of the $\\mathbf{A}$ and $\\mathbf{B}$ matrices.\n",
        "Your co-workers kindly provide a new file \"qc-train.tsv\" where noise was added to each action.\n",
        "Estimate the true $\\mathbf{A}$ and $\\mathbf{B}$ matrices based on this file."
      ]
    },
    {
      "cell_type": "code",
      "execution_count": 44,
      "metadata": {
        "id": "13UYre915olG"
      },
      "outputs": [],
      "source": [
        "import pandas as pd\n",
        "import numpy as np\n",
        "\n",
        "# Load & sort (if 'index' exists)\n",
        "df = pd.read_csv(\"qc-train.tsv\", sep=\"\\t\")\n",
        "if \"index\" in df.columns:\n",
        "    df = df.sort_values(\"index\").reset_index(drop=True)\n",
        "\n",
        "# Build (x_t, u_t) → x_{t+1}\n",
        "X_t  = df[[\"x\",\"v\",\"a\"]].to_numpy()[:-1, :]\n",
        "u_t  = df[[\"u\"]].to_numpy()[:-1, :]\n",
        "Y_tp = df[[\"x\",\"v\",\"a\"]].to_numpy()[1:, :]\n",
        "\n",
        "# Design matrix: [x_t, v_t, a_t, u_t]\n",
        "X_design = np.hstack([X_t, u_t])                 # (n-1)×4\n",
        "\n",
        "# Least-squares: Y_{t+1} ≈ X_design @ Θ\n",
        "Theta, *_ = np.linalg.lstsq(X_design, Y_tp, rcond=None)  # 4×3\n",
        "# Rows of Θ: [x, v, a, u]; Cols: [x', v', a']\n",
        "\n",
        "# Map to A (3×3) and B (3×1)\n",
        "A_new = Theta[0:3, :].T                          # (3×3)\n",
        "B_new = Theta[3, :].reshape(3, 1)                # (3×1)\n",
        "\n",
        "# Labeled DataFrames\n",
        "A_df = pd.DataFrame(A_new, index=[\"x\",\"v\",\"a\"], columns=[\"x\",\"v\",\"a\"])\n",
        "B_df = pd.DataFrame(B_new, index=[\"x\",\"v\",\"a\"], columns=[\"u\"])"
      ]
    },
    {
      "cell_type": "markdown",
      "metadata": {
        "id": "_Sxidkjb5phM"
      },
      "source": [
        "Save $\\mathbf{A}$ and $\\mathbf{B}$ to \"model-A-new.tsv\" and \"model-B-new.tsv\" respectively."
      ]
    },
    {
      "cell_type": "code",
      "execution_count": 45,
      "metadata": {
        "id": "LzcREdX_5pFS"
      },
      "outputs": [
        {
          "name": "stdout",
          "output_type": "stream",
          "text": [
            "Saved model-A-new.tsv and model-B-new.tsv\n",
            "RMSE for [x', v', a']: [9.48993751e-16 3.37486040e-16 2.55714247e-16]\n"
          ]
        }
      ],
      "source": [
        "# Save outputs\n",
        "A_df.to_csv(\"model-A-new.tsv\", sep=\"\\t\", index=True)\n",
        "B_df.to_csv(\"model-B-new.tsv\", sep=\"\\t\", index=True)\n",
        "\n",
        "# Optional \n",
        "Y_hat = X_design @ Theta\n",
        "rmse = np.sqrt(np.mean((Y_tp - Y_hat)**2, axis=0))\n",
        "print(\"Saved model-A-new.tsv and model-B-new.tsv\")\n",
        "print(\"RMSE for [x', v', a']:\", rmse)"
      ]
    },
    {
      "cell_type": "markdown",
      "metadata": {
        "id": "UNkBsDgD5vIn"
      },
      "source": [
        "Submit \"model-A-new.tsv\" and \"model-B-new.tsv\" in Gradescope."
      ]
    },
    {
      "cell_type": "markdown",
      "metadata": {
        "id": "smsTLuFcvR-I"
      },
      "source": [
        "## Part 5: Code\n",
        "\n",
        "Please submit a Jupyter notebook that can reproduce all your calculations and recreate the previously submitted files.\n",
        "You do not need to provide code for data collection if you did that by manually."
      ]
    },
    {
      "cell_type": "markdown",
      "metadata": {
        "id": "zi8lV2pbvWMs"
      },
      "source": [
        "## Part 6: Acknowledgements\n",
        "\n",
        "If you discussed this assignment with anyone, please acknowledge them here.\n",
        "If you did this assignment completely on your own, simply write none below.\n",
        "\n",
        "If you used any libraries not mentioned in this module's content, please list them with a brief explanation what you used them for. If you did not use any other libraries, simply write none below.\n",
        "\n",
        "If you used any generative AI tools, please add links to your transcripts below, and any other information that you feel is necessary to comply with the generative AI policy. If you did not use any generative AI tools, simply write none below."
      ]
    },
    {
      "cell_type": "code",
      "execution_count": 46,
      "metadata": {},
      "outputs": [],
      "source": [
        "ack_text = \"\"\"Acknowledgments\n",
        "\n",
        "I used ChatGPT as a study partner to clarify  and check errors, and simplify code while completing this project. \n",
        "\n",
        "\n",
        "For transparency, I am including links to the transcripts of these interactions:\n",
        "\n",
        "1. ChatGPT guidance: [https://chatgpt.com/share/68d20a8d-0870-8007-bb79-080efab54c33]\n",
        "These resources document the support I received and ensure compliance with the class generative AI policy.\n",
        "\"\"\"\n",
        "\n",
        "with open(\"acknowledgments.txt\",\"w\") as f:\n",
        "    f.write(ack_text)\n"
      ]
    }
  ],
  "metadata": {
    "colab": {
      "toc_visible": false
    },
    "kernelspec": {
      "display_name": "Python 3",
      "name": "python3"
    },
    "language_info": {
      "codemirror_mode": {
        "name": "ipython",
        "version": 3
      },
      "file_extension": ".py",
      "mimetype": "text/x-python",
      "name": "python",
      "nbconvert_exporter": "python",
      "pygments_lexer": "ipython3",
      "version": "3.12.1"
    }
  },
  "nbformat": 4,
  "nbformat_minor": 0
}
