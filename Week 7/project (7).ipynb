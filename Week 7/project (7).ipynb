{
  "cells": [
    {
      "cell_type": "markdown",
      "metadata": {
        "id": "Md413FzAvFD8"
      },
      "source": [
        "# DX 704 Week 7 Project\n",
        "\n",
        "This week's project will investigate issues in a quadcopter controller based using a linear quadratic regulator.\n",
        "You will start with an existing model of the system and logs from a quadcopter based on it, investigate discrepancies, and ultimately train a new model of the system dynamics."
      ]
    },
    {
      "cell_type": "markdown",
      "metadata": {
        "id": "PTIhFidP-KvD"
      },
      "source": [
        "The full project description and a template notebook are available on GitHub: [Project 7 Materials](https://github.com/bu-cds-dx704/dx704-project-07).\n"
      ]
    },
    {
      "cell_type": "markdown",
      "metadata": {
        "id": "52eGFDLZdsBy"
      },
      "source": [
        "## Example Code\n",
        "\n",
        "You may find it helpful to refer to these GitHub repositories of Jupyter notebooks for example code.\n",
        "\n",
        "* https://github.com/bu-cds-omds/dx601-examples\n",
        "* https://github.com/bu-cds-omds/dx602-examples\n",
        "* https://github.com/bu-cds-omds/dx603-examples\n",
        "* https://github.com/bu-cds-omds/dx704-examples\n",
        "\n",
        "Any calculations demonstrated in code examples or videos may be found in these notebooks, and you are allowed to copy this example code in your homework answers."
      ]
    },
    {
      "cell_type": "markdown",
      "metadata": {
        "id": "d7IKpQFK_AGF"
      },
      "source": [
        "## Introduction\n",
        "\n",
        "You've just joined a drone startup.\n",
        "On your first day, you join your new team to watch a test flight for a new quadcopter prototype.\n",
        "Watching the prototype fly, the team comments that it is not as smooth as usual and suspects that something is off in the controller.\n",
        "They provide you a copy of the dynamics model and log data from the prototype to investigate."
      ]
    },
    {
      "cell_type": "markdown",
      "metadata": {
        "id": "_Ks7EK6h3ktC"
      },
      "source": [
        "The quadcopter control model is a slightly more sophisticated version of the 1D quadcopter problem previously considered.\n",
        "\n",
        "The state vector $\\mathbf{x}_t$ now includes an acceleration component, and the action vector now has a servo control for the throttle instead of a raw force component.\n",
        "\\begin{array}{rcl}\n",
        "\\mathbf{x}_t & = & \\begin{bmatrix} x_t \\\\ v_t \\\\ a_t \\end{bmatrix} \\\\\n",
        "\\mathbf{u_t} & = & \\begin{bmatrix} u_t \\end{bmatrix}\n",
        "\\end{array}"
      ]
    },
    {
      "cell_type": "markdown",
      "metadata": {
        "id": "C8oSLkMqvMFF"
      },
      "source": [
        "## Part 1: Reconstruct the Control Matrix\n",
        "\n",
        "You are provided the dynamics model in the files `model-A.tsv`, `model-B.tsv`, `cost-Q.tsv` and `cost-R.tsv`.\n",
        "Recompute the control matrix $\\mathbf{K}$ to be used in the infinite horizon linear quadratic regulator problem."
      ]
    },
    {
      "cell_type": "code",
      "execution_count": 11,
      "metadata": {
        "id": "Pdpurx_Ym3F6"
      },
      "outputs": [],
      "source": [
        "# YOUR CHANGES HERE\n",
        "\n",
        "import pandas as pd\n",
        "import numpy as np\n",
        "from scipy.linalg import solve_discrete_are\n",
        "\n",
        "# Load labeled matrices\n",
        "A = pd.read_csv(\"model-A.tsv\", sep=\"\\t\", index_col=0)\n",
        "B = pd.read_csv(\"model-B.tsv\", sep=\"\\t\", index_col=0)\n",
        "Q = pd.read_csv(\"cost-Q.tsv\", sep=\"\\t\", index_col=0)\n",
        "R = pd.read_csv(\"cost-R.tsv\", sep=\"\\t\", index_col=0)\n",
        "\n",
        "A_mat = A.values.astype(float)\n",
        "B_mat = B.values.astype(float)\n",
        "Q_mat = Q.values.astype(float)\n",
        "R_mat = R.values.astype(float)\n",
        "\n",
        "# Solve the discrete-time algebraic Riccati equation (DARE)\n",
        "P = solve_discrete_are(A_mat, B_mat, Q_mat, R_mat)\n",
        "\n",
        "# Infinite-horizon discrete LQR gain:\n",
        "# K = (R + B^T P B)^{-1} (B^T P A)\n",
        "K_mat = np.linalg.inv(R_mat + B_mat.T @ P @ B_mat) @ (B_mat.T @ P @ A_mat)\n"
      ]
    },
    {
      "cell_type": "markdown",
      "metadata": {
        "id": "BDS1s6W9m5G1"
      },
      "source": [
        "Save $\\mathbf{K}$ in a file \"control-K-intended.tsv\" with columns x, v and a."
      ]
    },
    {
      "cell_type": "code",
      "execution_count": null,
      "metadata": {
        "id": "heCP8JhgnEIC"
      },
      "outputs": [
        {
          "name": "stdout",
          "output_type": "stream",
          "text": [
            "K (u row over [x, v, a] columns):\n"
          ]
        },
        {
          "data": {
            "text/html": [
              "<div>\n",
              "<style scoped>\n",
              "    .dataframe tbody tr th:only-of-type {\n",
              "        vertical-align: middle;\n",
              "    }\n",
              "\n",
              "    .dataframe tbody tr th {\n",
              "        vertical-align: top;\n",
              "    }\n",
              "\n",
              "    .dataframe thead th {\n",
              "        text-align: right;\n",
              "    }\n",
              "</style>\n",
              "<table border=\"1\" class=\"dataframe\">\n",
              "  <thead>\n",
              "    <tr style=\"text-align: right;\">\n",
              "      <th></th>\n",
              "      <th>x</th>\n",
              "      <th>v</th>\n",
              "      <th>a</th>\n",
              "    </tr>\n",
              "    <tr>\n",
              "      <th>index</th>\n",
              "      <th></th>\n",
              "      <th></th>\n",
              "      <th></th>\n",
              "    </tr>\n",
              "  </thead>\n",
              "  <tbody>\n",
              "    <tr>\n",
              "      <th>u</th>\n",
              "      <td>0.33446</td>\n",
              "      <td>1.304454</td>\n",
              "      <td>1.858131</td>\n",
              "    </tr>\n",
              "  </tbody>\n",
              "</table>\n",
              "</div>"
            ],
            "text/plain": [
              "             x         v         a\n",
              "index                             \n",
              "u      0.33446  1.304454  1.858131"
            ]
          },
          "metadata": {},
          "output_type": "display_data"
        }
      ],
      "source": [
        "# YOUR CHANGES HERE\n",
        "# Keep labels for clarity and save\n",
        "K = pd.DataFrame(K_mat, index=R.index, columns=A.columns)\n",
        "K.to_csv(\"control-K.tsv\", sep=\"\\t\", index=True)\n",
        "\n",
        "print(\"K (u row over [x, v, a] columns):\")\n",
        "display(K)"
      ]
    },
    {
      "cell_type": "markdown",
      "metadata": {
        "id": "emwSwtKjnG8y"
      },
      "source": [
        "Submit \"control-K-intended.tsv\" in Gradescope."
      ]
    },
    {
      "cell_type": "markdown",
      "metadata": {
        "id": "fqbtALHx_z7l"
      },
      "source": [
        "## Part 2: Recompute the Actions for the Logged States\n",
        "\n",
        "You get access to the log data for the prototype as the file \"qc-log.tsv\".\n",
        "It conveniently saves all the state and actions made.\n",
        "Recompute the actions based on your $\\mathbf{K}$ matrix computed in part 1."
      ]
    },
    {
      "cell_type": "code",
      "execution_count": 13,
      "metadata": {
        "id": "DsbCg2TjoFpp"
      },
      "outputs": [],
      "source": [
        "# YOUR CHANGES HERE\n",
        "\n",
        "import pandas as pd\n",
        "import numpy as np\n",
        "\n",
        "# Load K from Part 1 (expects file created previously)\n",
        "K = pd.read_csv(\"control-K.tsv\", sep=\"\\t\", index_col=0).iloc[0]\n",
        "# Ensure we have coefficients aligned to [x, v, a]\n",
        "kx, kv, ka = float(K[\"x\"]), float(K[\"v\"]), float(K[\"a\"])\n",
        "\n",
        "# Load the log of states/actions\n",
        "log = pd.read_csv(\"qc-log.tsv\", sep=\"\\t\")\n",
        "\n",
        "# u_check = -K x_t  (discrete LQR uses u = -K x)\n",
        "u_check = -(kx*log[\"x\"] + kv*log[\"v\"] + ka*log[\"a\"])"
      ]
    },
    {
      "cell_type": "markdown",
      "metadata": {
        "id": "6Z2gHEGBoIjL"
      },
      "source": [
        "Save your computed actions as \"qc-check.tsv\" with columns \"index\" and \"u_check\"."
      ]
    },
    {
      "cell_type": "code",
      "execution_count": 14,
      "metadata": {
        "id": "vbyMYtMLoS72"
      },
      "outputs": [
        {
          "data": {
            "text/html": [
              "<div>\n",
              "<style scoped>\n",
              "    .dataframe tbody tr th:only-of-type {\n",
              "        vertical-align: middle;\n",
              "    }\n",
              "\n",
              "    .dataframe tbody tr th {\n",
              "        vertical-align: top;\n",
              "    }\n",
              "\n",
              "    .dataframe thead th {\n",
              "        text-align: right;\n",
              "    }\n",
              "</style>\n",
              "<table border=\"1\" class=\"dataframe\">\n",
              "  <thead>\n",
              "    <tr style=\"text-align: right;\">\n",
              "      <th></th>\n",
              "      <th>index</th>\n",
              "      <th>u_check</th>\n",
              "    </tr>\n",
              "  </thead>\n",
              "  <tbody>\n",
              "    <tr>\n",
              "      <th>0</th>\n",
              "      <td>0</td>\n",
              "      <td>1.672299</td>\n",
              "    </tr>\n",
              "    <tr>\n",
              "      <th>1</th>\n",
              "      <td>1</td>\n",
              "      <td>-1.152095</td>\n",
              "    </tr>\n",
              "    <tr>\n",
              "      <th>2</th>\n",
              "      <td>2</td>\n",
              "      <td>-1.235183</td>\n",
              "    </tr>\n",
              "    <tr>\n",
              "      <th>3</th>\n",
              "      <td>3</td>\n",
              "      <td>-0.288504</td>\n",
              "    </tr>\n",
              "    <tr>\n",
              "      <th>4</th>\n",
              "      <td>4</td>\n",
              "      <td>0.369202</td>\n",
              "    </tr>\n",
              "  </tbody>\n",
              "</table>\n",
              "</div>"
            ],
            "text/plain": [
              "   index   u_check\n",
              "0      0  1.672299\n",
              "1      1 -1.152095\n",
              "2      2 -1.235183\n",
              "3      3 -0.288504\n",
              "4      4  0.369202"
            ]
          },
          "metadata": {},
          "output_type": "display_data"
        },
        {
          "name": "stdout",
          "output_type": "stream",
          "text": [
            "Saved qc-check.tsv\n"
          ]
        }
      ],
      "source": [
        "# YOUR CHANGES HERE\n",
        "\n",
        "# Save required file\n",
        "out = pd.DataFrame({\"index\": log[\"index\"], \"u_check\": u_check})\n",
        "out.to_csv(\"qc-check.tsv\", sep=\"\\t\", index=False)\n",
        "\n",
        "# Quick sanity peek\n",
        "display(out.head())\n",
        "print(\"Saved qc-check.tsv\")"
      ]
    },
    {
      "cell_type": "markdown",
      "metadata": {
        "id": "PDCUyNOfoUzm"
      },
      "source": [
        "Submit \"qc-check.tsv\" in Gradescope."
      ]
    },
    {
      "cell_type": "markdown",
      "metadata": {
        "id": "7Z20uZNHABA-"
      },
      "source": [
        "## Part 3: Reverse Engineer the Actual Control Matrix\n",
        "\n",
        "Now that you have found a systematic difference between your computed actions and the logged actions, estimate $\n",
        "$, the control matrix that was actually used to choose actions in the prototype."
      ]
    },
    {
      "cell_type": "markdown",
      "metadata": {
        "id": "lGoHdtel2iVm"
      },
      "source": [
        "Hint: With a linear quadratic regulator, the optimal actions are always linear combinations of the state that are calculated using the control matrix.\n",
        "You can use linear regression to reverse-engineer the coefficients in the control matrix."
      ]
    },
    {
      "cell_type": "code",
      "execution_count": 15,
      "metadata": {
        "id": "Ab7XnMej21RN"
      },
      "outputs": [],
      "source": [
        "# YOUR CHANGES HERE\n",
        "\n",
        "import pandas as pd\n",
        "import numpy as np\n",
        "\n",
        "# Load flight log\n",
        "log = pd.read_csv(\"qc-log.tsv\", sep=\"\\t\")\n",
        "\n",
        "# Design matrix and target (no intercept).  u ≈ X @ beta  where X=[x,v,a]\n",
        "X = log[[\"x\",\"v\",\"a\"]].to_numpy()\n",
        "y = log[\"u\"].to_numpy()\n",
        "\n",
        "# Least squares fit\n",
        "beta, *_ = np.linalg.lstsq(X, y, rcond=None)\n",
        "\n",
        "# For LQR form u = -K x  →  K_actual = -beta^T\n",
        "K_actual = pd.DataFrame([-beta],\n",
        "                        index=[\"u\"],\n",
        "                        columns=[\"x\",\"v\",\"a\"])"
      ]
    },
    {
      "cell_type": "markdown",
      "metadata": {
        "id": "M7zG_6NT23fq"
      },
      "source": [
        "Save $\\mathbf{K}_{\\mathrm{actual}}$ in \"control-K-actual.tsv\" with the same format as \"control-K-intended.tsv\"."
      ]
    },
    {
      "cell_type": "code",
      "execution_count": 16,
      "metadata": {
        "id": "hPAaZI3M3DKB"
      },
      "outputs": [
        {
          "name": "stdout",
          "output_type": "stream",
          "text": [
            "K_actual (row u over [x, v, a]):\n"
          ]
        },
        {
          "data": {
            "text/html": [
              "<div>\n",
              "<style scoped>\n",
              "    .dataframe tbody tr th:only-of-type {\n",
              "        vertical-align: middle;\n",
              "    }\n",
              "\n",
              "    .dataframe tbody tr th {\n",
              "        vertical-align: top;\n",
              "    }\n",
              "\n",
              "    .dataframe thead th {\n",
              "        text-align: right;\n",
              "    }\n",
              "</style>\n",
              "<table border=\"1\" class=\"dataframe\">\n",
              "  <thead>\n",
              "    <tr style=\"text-align: right;\">\n",
              "      <th></th>\n",
              "      <th>x</th>\n",
              "      <th>v</th>\n",
              "      <th>a</th>\n",
              "    </tr>\n",
              "  </thead>\n",
              "  <tbody>\n",
              "    <tr>\n",
              "      <th>u</th>\n",
              "      <td>0.340438</td>\n",
              "      <td>1.30012</td>\n",
              "      <td>1.950117</td>\n",
              "    </tr>\n",
              "  </tbody>\n",
              "</table>\n",
              "</div>"
            ],
            "text/plain": [
              "          x        v         a\n",
              "u  0.340438  1.30012  1.950117"
            ]
          },
          "metadata": {},
          "output_type": "display_data"
        },
        {
          "name": "stdout",
          "output_type": "stream",
          "text": [
            "R^2 for u fit: 1.000000\n",
            "Saved: control-K-actual.tsv and actual-K.tsv\n"
          ]
        }
      ],
      "source": [
        "# YOUR CHANGES HERE\n",
        "\n",
        "# Save in required formats\n",
        "K_actual.to_csv(\"control-K-actual.tsv\", sep=\"\\t\")\n",
        "K_actual.to_csv(\"actual-K.tsv\", sep=\"\\t\")\n",
        "\n",
        "# Quick sanity check\n",
        "y_hat = X @ beta\n",
        "ss_res = np.sum((y - y_hat)**2)\n",
        "ss_tot = np.sum((y - y.mean())**2)\n",
        "r2 = 1 - ss_res/ss_tot if ss_tot > 0 else np.nan\n",
        "\n",
        "print(\"K_actual (row u over [x, v, a]):\")\n",
        "display(K_actual)\n",
        "print(f\"R^2 for u fit: {r2:.6f}\")\n",
        "print(\"Saved: control-K-actual.tsv and actual-K.tsv\")"
      ]
    },
    {
      "cell_type": "markdown",
      "metadata": {
        "id": "EFmODg3W3D2u"
      },
      "source": [
        "Submit \"actual-K.tsv\" in Gradescope."
      ]
    },
    {
      "cell_type": "markdown",
      "metadata": {
        "id": "wSuXyz6LAYjK"
      },
      "source": [
        "## Part 4: Recompute the System Dynamics from the Log Data\n",
        "\n",
        "On further investigation, it turns out that the control matrix $\\mathbf{K}$ in the prototype was modified to compensate for state prediction errors.\n",
        "You would like to recompute the $\\mathbf{A}$ and $\\mathbf{B}$ matrices using the log data since they are used to predict the next states.\n",
        "However, since the action vector $\\mathbf{u}_t$ is linearly dependent on the state via $\\mathbf{u}_t=-\\mathbf{K} \\mathbf{x}_t$, you need a new data set so you can separate the effects of the $\\mathbf{A}$ and $\\mathbf{B}$ matrices.\n",
        "Your co-workers kindly provide a new file \"qc-train.tsv\" where noise was added to each action.\n",
        "Estimate the true $\\mathbf{A}$ and $\\mathbf{B}$ matrices based on this file."
      ]
    },
    {
      "cell_type": "code",
      "execution_count": 17,
      "metadata": {
        "id": "13UYre915olG"
      },
      "outputs": [
        {
          "name": "stdout",
          "output_type": "stream",
          "text": [
            "Estimated A:\n"
          ]
        },
        {
          "data": {
            "text/html": [
              "<div>\n",
              "<style scoped>\n",
              "    .dataframe tbody tr th:only-of-type {\n",
              "        vertical-align: middle;\n",
              "    }\n",
              "\n",
              "    .dataframe tbody tr th {\n",
              "        vertical-align: top;\n",
              "    }\n",
              "\n",
              "    .dataframe thead th {\n",
              "        text-align: right;\n",
              "    }\n",
              "</style>\n",
              "<table border=\"1\" class=\"dataframe\">\n",
              "  <thead>\n",
              "    <tr style=\"text-align: right;\">\n",
              "      <th></th>\n",
              "      <th>x</th>\n",
              "      <th>v</th>\n",
              "      <th>a</th>\n",
              "    </tr>\n",
              "  </thead>\n",
              "  <tbody>\n",
              "    <tr>\n",
              "      <th>x</th>\n",
              "      <td>1.000000e+00</td>\n",
              "      <td>1.100000e+00</td>\n",
              "      <td>2.886580e-15</td>\n",
              "    </tr>\n",
              "    <tr>\n",
              "      <th>v</th>\n",
              "      <td>-1.281955e-16</td>\n",
              "      <td>9.000000e-01</td>\n",
              "      <td>9.500000e-01</td>\n",
              "    </tr>\n",
              "    <tr>\n",
              "      <th>a</th>\n",
              "      <td>-9.313780e-17</td>\n",
              "      <td>5.551115e-16</td>\n",
              "      <td>1.100000e+00</td>\n",
              "    </tr>\n",
              "  </tbody>\n",
              "</table>\n",
              "</div>"
            ],
            "text/plain": [
              "              x             v             a\n",
              "x  1.000000e+00  1.100000e+00  2.886580e-15\n",
              "v -1.281955e-16  9.000000e-01  9.500000e-01\n",
              "a -9.313780e-17  5.551115e-16  1.100000e+00"
            ]
          },
          "metadata": {},
          "output_type": "display_data"
        },
        {
          "name": "stdout",
          "output_type": "stream",
          "text": [
            "\n",
            "Estimated B:\n"
          ]
        },
        {
          "data": {
            "text/html": [
              "<div>\n",
              "<style scoped>\n",
              "    .dataframe tbody tr th:only-of-type {\n",
              "        vertical-align: middle;\n",
              "    }\n",
              "\n",
              "    .dataframe tbody tr th {\n",
              "        vertical-align: top;\n",
              "    }\n",
              "\n",
              "    .dataframe thead th {\n",
              "        text-align: right;\n",
              "    }\n",
              "</style>\n",
              "<table border=\"1\" class=\"dataframe\">\n",
              "  <thead>\n",
              "    <tr style=\"text-align: right;\">\n",
              "      <th></th>\n",
              "      <th>u</th>\n",
              "    </tr>\n",
              "  </thead>\n",
              "  <tbody>\n",
              "    <tr>\n",
              "      <th>x</th>\n",
              "      <td>-1.110223e-16</td>\n",
              "    </tr>\n",
              "    <tr>\n",
              "      <th>v</th>\n",
              "      <td>-1.000000e-02</td>\n",
              "    </tr>\n",
              "    <tr>\n",
              "      <th>a</th>\n",
              "      <td>9.000000e-01</td>\n",
              "    </tr>\n",
              "  </tbody>\n",
              "</table>\n",
              "</div>"
            ],
            "text/plain": [
              "              u\n",
              "x -1.110223e-16\n",
              "v -1.000000e-02\n",
              "a  9.000000e-01"
            ]
          },
          "metadata": {},
          "output_type": "display_data"
        },
        {
          "name": "stdout",
          "output_type": "stream",
          "text": [
            "\n",
            "RMSE per component [x', v', a']: [9.48993751e-16 3.37486040e-16 2.55714247e-16]\n"
          ]
        }
      ],
      "source": [
        "# YOUR CHANGES HERE\n",
        "import pandas as pd\n",
        "import numpy as np\n",
        "\n",
        "# Load the noisy-action training log\n",
        "df = pd.read_csv(\"qc-train.tsv\", sep=\"\\t\").sort_values(\"index\").reset_index(drop=True)\n",
        "\n",
        "# Build (x_t, u_t) → x_{t+1}\n",
        "X_t  = df[[\"x\",\"v\",\"a\"]].to_numpy()[:-1, :]     # state at time t\n",
        "u_t  = df[[\"u\"]].to_numpy()[:-1, :]             # action column vector\n",
        "Y_tp = df[[\"x\",\"v\",\"a\"]].to_numpy()[1:, :]      # state at time t+1\n",
        "\n",
        "# Design matrix with action: [x_t, v_t, a_t, u_t]\n",
        "X_design = np.hstack([X_t, u_t])                # shape (n-1, 4)\n",
        "\n",
        "# Solve Y_{t+1} ≈ X_design @ Θ  (least squares)\n",
        "Theta, *_ = np.linalg.lstsq(X_design, Y_tp, rcond=None)\n",
        "# Θ rows: [x, v, a, u]; columns: next-state components [x', v', a']\n",
        "\n",
        "# Map Θ → A (3x3), B (3x1)\n",
        "A_new = Theta[0:3, :].T                         # (3x3)\n",
        "B_new = Theta[3, :].reshape(3, 1)               # (3x1)\n",
        "\n",
        "# Labeled DataFrames for clarity\n",
        "A_df = pd.DataFrame(A_new, index=[\"x\",\"v\",\"a\"], columns=[\"x\",\"v\",\"a\"])\n",
        "B_df = pd.DataFrame(B_new, index=[\"x\",\"v\",\"a\"], columns=[\"u\"])\n",
        "\n",
        "# Diagnostics\n",
        "Y_hat = X_design @ Theta\n",
        "rmse = np.sqrt(np.mean((Y_tp - Y_hat)**2, axis=0))\n",
        "\n",
        "print(\"Estimated A:\")\n",
        "display(A_df)\n",
        "print(\"\\nEstimated B:\")\n",
        "display(B_df)\n",
        "print(\"\\nRMSE per component [x', v', a']:\", rmse)\n",
        "\n"
      ]
    },
    {
      "cell_type": "markdown",
      "metadata": {
        "id": "_Sxidkjb5phM"
      },
      "source": [
        "Save $\\mathbf{A}$ and $\\mathbf{B}$ to \"model-A-new.tsv\" and \"model-B-new.tsv\" respectively."
      ]
    },
    {
      "cell_type": "code",
      "execution_count": 18,
      "metadata": {
        "id": "LzcREdX_5pFS"
      },
      "outputs": [
        {
          "name": "stdout",
          "output_type": "stream",
          "text": [
            "Saved model-A-new.tsv and model-B-new.tsv\n"
          ]
        }
      ],
      "source": [
        "# YOUR CHANGES HERE\n",
        "\n",
        "# If A_df/B_df aren’t in memory (rerun-safe), recompute quickly\n",
        "try:\n",
        "    A_df, B_df\n",
        "except NameError:\n",
        "    import pandas as pd, numpy as np\n",
        "    df = pd.read_csv(\"qc-train.tsv\", sep=\"\\t\").sort_values(\"index\").reset_index(drop=True)\n",
        "    X_t  = df[[\"x\",\"v\",\"a\"]].to_numpy()[:-1, :]\n",
        "    u_t  = df[[\"u\"]].to_numpy()[:-1, :]\n",
        "    Y_tp = df[[\"x\",\"v\",\"a\"]].to_numpy()[1:, :]\n",
        "    X_design = np.hstack([X_t, u_t])\n",
        "    Theta, *_ = np.linalg.lstsq(X_design, Y_tp, rcond=None)\n",
        "    A_df = pd.DataFrame(Theta[0:3, :].T, index=[\"x\",\"v\",\"a\"], columns=[\"x\",\"v\",\"a\"])\n",
        "    B_df = pd.DataFrame(Theta[3, :].reshape(3,1), index=[\"x\",\"v\",\"a\"], columns=[\"u\"])\n",
        "\n",
        "A_df.to_csv(\"model-A-new.tsv\", sep=\"\\t\")\n",
        "B_df.to_csv(\"model-B-new.tsv\", sep=\"\\t\")\n",
        "\n",
        "print(\"Saved model-A-new.tsv and model-B-new.tsv\")\n"
      ]
    },
    {
      "cell_type": "markdown",
      "metadata": {
        "id": "UNkBsDgD5vIn"
      },
      "source": [
        "Submit \"model-A-new.tsv\" and \"model-B-new.tsv\" in Gradescope."
      ]
    },
    {
      "cell_type": "markdown",
      "metadata": {
        "id": "smsTLuFcvR-I"
      },
      "source": [
        "## Part 5: Code\n",
        "\n",
        "Please submit a Jupyter notebook that can reproduce all your calculations and recreate the previously submitted files.\n",
        "You do not need to provide code for data collection if you did that by manually."
      ]
    },
    {
      "cell_type": "markdown",
      "metadata": {
        "id": "zi8lV2pbvWMs"
      },
      "source": [
        "## Part 6: Acknowledgements\n",
        "\n",
        "If you discussed this assignment with anyone, please acknowledge them here.\n",
        "If you did this assignment completely on your own, simply write none below.\n",
        "\n",
        "If you used any libraries not mentioned in this module's content, please list them with a brief explanation what you used them for. If you did not use any other libraries, simply write none below.\n",
        "\n",
        "If you used any generative AI tools, please add links to your transcripts below, and any other information that you feel is necessary to comply with the generative AI policy. If you did not use any generative AI tools, simply write none below."
      ]
    },
    {
      "cell_type": "code",
      "execution_count": 19,
      "metadata": {},
      "outputs": [],
      "source": [
        "ack_text = \"\"\"Acknowledgments\n",
        "\n",
        "I used ChatGPT as a study partner to clarify  and check errors, and simplify code while completing this project. \n",
        "\n",
        "\n",
        "For transparency, I am including links to the transcripts of these interactions:\n",
        "\n",
        "1. ChatGPT guidance: [https://chatgpt.com/share/68d20a8d-0870-8007-bb79-080efab54c33]\n",
        "These resources document the support I received and ensure compliance with the class generative AI policy.\n",
        "\"\"\"\n",
        "\n",
        "with open(\"acknowledgments.txt\",\"w\") as f:\n",
        "    f.write(ack_text)\n"
      ]
    }
  ],
  "metadata": {
    "colab": {
      "toc_visible": false
    },
    "kernelspec": {
      "display_name": "Python 3",
      "name": "python3"
    },
    "language_info": {
      "codemirror_mode": {
        "name": "ipython",
        "version": 3
      },
      "file_extension": ".py",
      "mimetype": "text/x-python",
      "name": "python",
      "nbconvert_exporter": "python",
      "pygments_lexer": "ipython3",
      "version": "3.12.1"
    }
  },
  "nbformat": 4,
  "nbformat_minor": 0
}
