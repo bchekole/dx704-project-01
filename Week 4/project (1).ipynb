{
  "cells": [
    {
      "cell_type": "markdown",
      "metadata": {
        "id": "Md413FzAvFD8"
      },
      "source": [
        "# DX 704 Week 4 Project\n",
        "\n",
        "This week's project will test the learning speed of linear contextual bandits compared to unoptimized approaches.\n",
        "You will start with building a preference data set for evaluation, and then implement different variations of LinUCB and visualize how fast they learn the preferences.\n"
      ]
    },
    {
      "cell_type": "markdown",
      "metadata": {
        "id": "D3gs-tquuzJe"
      },
      "source": [
        "The full project description, a template notebook and supporting code are available on GitHub: [Project 4 Materials](https://github.com/bu-cds-dx704/dx704-project-04).\n"
      ]
    },
    {
      "cell_type": "markdown",
      "metadata": {
        "id": "OguIjc5idW3Z"
      },
      "source": [
        "## Example Code\n",
        "\n",
        "You may find it helpful to refer to these GitHub repositories of Jupyter notebooks for example code.\n",
        "\n",
        "* https://github.com/bu-cds-omds/dx601-examples\n",
        "* https://github.com/bu-cds-omds/dx602-examples\n",
        "* https://github.com/bu-cds-omds/dx603-examples\n",
        "* https://github.com/bu-cds-omds/dx704-examples\n",
        "\n",
        "Any calculations demonstrated in code examples or videos may be found in these notebooks, and you are allowed to copy this example code in your homework answers."
      ]
    },
    {
      "cell_type": "markdown",
      "metadata": {
        "id": "C8oSLkMqvMFF"
      },
      "source": [
        "## Part 1: Collect Rating Data\n",
        "\n",
        "The file \"recipes.tsv\" in this repository has information about 100 recipes.\n",
        "Make a new file \"ratings.tsv\" with two columns, recipe_slug (from recipes.tsv) and rating.\n",
        "Populate the rating column with values between 0 and 1 where 0 is the worst and 1 is the best.\n",
        "You can assign these ratings however you want within that range, but try to make it reflect a consistent set of preferences.\n",
        "These could be your preferences, or a persona of your choosing (e.g. chocolate lover, bacon-obsessed, or sweet tooth).\n",
        "Make sure that there are at least 10 ratings of zero and at least 10 ratings of one.\n"
      ]
    },
    {
      "cell_type": "markdown",
      "metadata": {
        "id": "kAwViBgKfWER"
      },
      "source": [
        "Hint: You may find it more convenient to assign raw ratings from 1 to 5 and then remap them as follows.\n",
        "\n",
        "`ratings[\"rating\"] = (ratings[\"rating_raw\"] - 1) * 0.25`"
      ]
    },
    {
      "cell_type": "code",
      "execution_count": 36,
      "metadata": {},
      "outputs": [
        {
          "name": "stdout",
          "output_type": "stream",
          "text": [
            "ratings.tsv saved (bacon=0, healthy=1, default=0.25)\n"
          ]
        }
      ],
      "source": [
        "import pandas as pd, re\n",
        "\n",
        "r = pd.read_csv(\"recipes.tsv\", sep=\"\\t\")[[\"recipe_slug\",\"recipe_title\"]]\n",
        "t = pd.read_csv(\"recipe-tags.tsv\", sep=\"\\t\")\n",
        "\n",
        "r[\"rating_raw\"] = 2  # default = 2 → 0.25 (less neutral)\n",
        "H = r\"(?i)\\b(?:vegan|vegetarian|salad|grilled|baked|steamed|quinoa|kale|spinach|broccoli|chickpea|lentil|tofu)\\b\"\n",
        "B = r\"\\bbacon\\b\"\n",
        "\n",
        "# Healthy → 5; Bacon (title or tags) → 1\n",
        "r.loc[r.recipe_title.str.contains(H, regex=True, na=False), \"rating_raw\"] = 5\n",
        "r.loc[r.recipe_title.str.contains(B, case=False, na=False), \"rating_raw\"] = 1\n",
        "bacon_slugs = set(t.loc[t.recipe_tag.str.contains(B, case=False, na=False), \"recipe_slug\"])\n",
        "r.loc[r.recipe_slug.isin(bacon_slugs), \"rating_raw\"] = 1\n",
        "\n",
        "# Ensure ≥10 zeros and ≥10 ones after mapping\n",
        "need0 = max(0, 10 - (r[\"rating_raw\"]==1).sum())\n",
        "if need0: r.loc[r[r[\"rating_raw\"]>1].sample(need0, random_state=0).index, \"rating_raw\"] = 1\n",
        "need1 = max(0, 10 - (r[\"rating_raw\"]==5).sum())\n",
        "if need1: r.loc[r[r[\"rating_raw\"]<5].sample(need1, random_state=0).index, \"rating_raw\"] = 5\n",
        "\n",
        "r[\"rating\"] = (r[\"rating_raw\"] - 1) * 0.25\n",
        "r[[\"recipe_slug\",\"rating\"]].to_csv(\"ratings.tsv\", sep=\"\\t\", index=False)\n",
        "print(\"ratings.tsv saved (bacon=0, healthy=1, default=0.25)\")\n"
      ]
    },
    {
      "cell_type": "markdown",
      "metadata": {
        "id": "Eh7UaX6OvuWo"
      },
      "source": [
        "Submit \"ratings.tsv\" in Gradescope."
      ]
    },
    {
      "cell_type": "markdown",
      "metadata": {
        "id": "NiCwaZwr5M67"
      },
      "source": [
        "## Part 2: Construct Model Input\n",
        "\n",
        "Use your file \"ratings.tsv\" combined with \"recipe-tags.tsv\" to create a new file \"features.tsv\" with a column recipe_slug, a column bias which is hard-coded to one, and a column for each tag that appears in \"recipe-tags.tsv\".\n",
        "The tag column in this file should be a 0-1 encoding of the recipe tags for each recipe.\n",
        "[Pandas reshaping function methods](https://pandas.pydata.org/docs/user_guide/reshaping.html) may be helpful."
      ]
    },
    {
      "cell_type": "markdown",
      "metadata": {
        "id": "8WWi_JJXocEb"
      },
      "source": [
        "The bias column will make later LinUCB calculations easier since it will just be another dimension."
      ]
    },
    {
      "cell_type": "markdown",
      "metadata": {
        "id": "MHR-BsD9539j"
      },
      "source": [
        "Hint: For later modeling steps, it will be important to have the feature data (inputs) and the rating data (target outputs) in the same order.\n",
        "It is highly recommended to make sure that \"features.tsv\" and \"ratings.tsv\" have the recipe slugs in the same order."
      ]
    },
    {
      "cell_type": "code",
      "execution_count": 37,
      "metadata": {
        "id": "cGvj258d8nnv"
      },
      "outputs": [
        {
          "name": "stdout",
          "output_type": "stream",
          "text": [
            "features.tsv saved\n"
          ]
        }
      ],
      "source": [
        "import pandas as pd\n",
        "\n",
        "ratings = pd.read_csv(\"ratings.tsv\", sep=\"\\t\")\n",
        "tags    = pd.read_csv(\"recipe-tags.tsv\", sep=\"\\t\")\n",
        "\n",
        "ratings[\"slug_norm\"] = ratings.recipe_slug.str.strip().str.lower()\n",
        "tags[\"slug_norm\"]    = tags.recipe_slug.str.strip().str.lower()\n",
        "\n",
        "X = pd.crosstab(tags[\"slug_norm\"], tags[\"recipe_tag\"]).clip(0,1)\n",
        "X = X.reindex(ratings[\"slug_norm\"]).fillna(0).astype(int)\n",
        "\n",
        "features = pd.concat(\n",
        "    [ratings[\"recipe_slug\"].reset_index(drop=True),\n",
        "     pd.Series(1, index=X.index, name=\"bias\").reset_index(drop=True),\n",
        "     X.reset_index(drop=True)], axis=1)\n",
        "\n",
        "features.to_csv(\"features.tsv\", sep=\"\\t\", index=False)\n",
        "print(\"features.tsv saved\")\n"
      ]
    },
    {
      "cell_type": "markdown",
      "metadata": {
        "id": "w63ji-Oi6oH7"
      },
      "source": [
        "Submit \"features.tsv\" in Gradescope."
      ]
    },
    {
      "cell_type": "markdown",
      "metadata": {
        "id": "4TeXvznlwJzo"
      },
      "source": [
        "## Part 3: Linear Preference Model\n",
        "\n",
        "Use your feature and rating files to build a ridge regression model with ridge regression's regularization parameter $\\alpha$ set to 1.\n"
      ]
    },
    {
      "cell_type": "markdown",
      "metadata": {
        "id": "aVlUnVv4oDIk"
      },
      "source": [
        "Hint: If you are using scikit-learn modeling classes, you should use `fit_intercept=False` since that intercept value will be redundant with the bias coefficient."
      ]
    },
    {
      "cell_type": "markdown",
      "metadata": {
        "id": "NLrBu-z7A45W"
      },
      "source": [
        "Hint: The estimate component of the bounds should match the previous estimate, so you should be able to just focus on the variance component of the bounds now."
      ]
    },
    {
      "cell_type": "code",
      "execution_count": 44,
      "metadata": {},
      "outputs": [
        {
          "name": "stdout",
          "output_type": "stream",
          "text": [
            "model.tsv saved\n"
          ]
        }
      ],
      "source": [
        "import pandas as pd\n",
        "from sklearn.linear_model import Ridge\n",
        "\n",
        "F = pd.read_csv(\"features.tsv\", sep=\"\\t\")\n",
        "y = pd.read_csv(\"ratings.tsv\",  sep=\"\\t\")[\"rating\"].values\n",
        "X = F.drop(columns=[\"recipe_slug\"])\n",
        "\n",
        "m = Ridge(alpha=1.0, fit_intercept=False).fit(X, y)\n",
        "pd.Series(m.coef_, index=X.columns).drop(\"bias\") \\\n",
        "  .rename_axis(\"recipe_tag\").reset_index(name=\"coefficient\") \\\n",
        "  .to_csv(\"model.tsv\", sep=\"\\t\", index=False)\n",
        "print(\"model.tsv saved\")\n"
      ]
    },
    {
      "cell_type": "markdown",
      "metadata": {
        "id": "fw9LaHF_8tsA"
      },
      "source": [
        "Save the coefficients of this model in a file \"model.tsv\" with columns \"recipe_tag\" and \"coefficient\".\n",
        "Do not include the bias."
      ]
    },
    {
      "cell_type": "markdown",
      "metadata": {
        "id": "86uS_zZ0wQxC"
      },
      "source": [
        "Submit \"model.tsv\" in Gradescope."
      ]
    },
    {
      "cell_type": "markdown",
      "metadata": {
        "id": "B1Nfs7zCsDpj"
      },
      "source": [
        "## Part 4: Recipe Estimates\n",
        "\n",
        "Use the recipe model to estimate the score of every recipe.\n",
        "Save these estimates to a file \"estimates.tsv\" with columns recipe_slug and score_estimate."
      ]
    },
    {
      "cell_type": "code",
      "execution_count": 45,
      "metadata": {
        "id": "pIClPwYVso5a"
      },
      "outputs": [
        {
          "name": "stdout",
          "output_type": "stream",
          "text": [
            "estimates.tsv saved\n"
          ]
        }
      ],
      "source": [
        "import pandas as pd\n",
        "from sklearn.linear_model import Ridge\n",
        "\n",
        "F = pd.read_csv(\"features.tsv\", sep=\"\\t\")\n",
        "y = pd.read_csv(\"ratings.tsv\",  sep=\"\\t\")[\"rating\"].values\n",
        "X = F.drop(columns=[\"recipe_slug\"])\n",
        "\n",
        "m = Ridge(alpha=1.0, fit_intercept=False).fit(X, y)\n",
        "pd.DataFrame({\"recipe_slug\": F[\"recipe_slug\"],\n",
        "              \"score_estimate\": m.predict(X).clip(0,1)}) \\\n",
        "  .to_csv(\"estimates.tsv\", sep=\"\\t\", index=False)\n",
        "print(\"estimates.tsv saved\")\n"
      ]
    },
    {
      "cell_type": "markdown",
      "metadata": {
        "id": "i5t3uSE_srMA"
      },
      "source": [
        "Submit \"estimates.tsv\" in Gradescope."
      ]
    },
    {
      "cell_type": "code",
      "execution_count": 48,
      "metadata": {},
      "outputs": [
        {
          "name": "stdout",
          "output_type": "stream",
          "text": [
            "                               recipe_slug  score_estimate\n",
            "99             spinach-and-ricotta-lasagna        0.956688\n",
            "72                              taco-salad        0.948088\n",
            "83                 spinach-and-feta-quiche        0.933841\n",
            "53                             nacho-salad        0.933067\n",
            "33                                   tacos        0.902884\n",
            "85  soba-noodle-salad-with-peanut-dressing        0.895582\n",
            "2                         bacon-fried-rice        0.855783\n",
            "78                          spinach-quiche        0.834225\n",
            "98             vegetarian-mushroom-lasagna        0.806635\n",
            "42      spinach-and-ricotta-stuffed-shells        0.761141\n",
            "                         recipe_slug  score_estimate\n",
            "11            bacon-wrapped-scallops        0.000000\n",
            "80                   quiche-lorraine        0.000585\n",
            "92      bacon-wrapped-shrimp-skewers        0.002050\n",
            "41              maple-bacon-pancakes        0.003153\n",
            "93             bacon-wrapped-chicken        0.013204\n",
            "6       bacon-chocolate-chip-cookies        0.015977\n",
            "88               bacon-wrapped-dates        0.016952\n",
            "94           bacon-wrapped-asparagus        0.019221\n",
            "95              bacon-mac-and-cheese        0.027801\n",
            "91  bacon-and-egg-breakfast-sandwich        0.028322\n"
          ]
        }
      ],
      "source": [
        "import pandas as pd\n",
        "e = pd.read_csv(\"estimates.tsv\", sep=\"\\t\")\n",
        "print(e.sort_values(\"score_estimate\", ascending=False).head(10))\n",
        "print(e.sort_values(\"score_estimate\").head(10))\n"
      ]
    },
    {
      "cell_type": "markdown",
      "metadata": {
        "id": "yTBplNhRst8q"
      },
      "source": [
        "## Part 5: LinUCB Bounds\n",
        "\n",
        "Calculate the upper bounds of LinUCB using data corresponding to trying every recipe once and receiving the rating in \"ratings.tsv\" as the reward.\n",
        "Keep the ridge regression regularization parameter at 1, and set LinUCB's $\\alpha$ parameter to 2.\n",
        "Save these upper bounds to a file \"bounds.tsv\" with columns recipe_slug and score_bound."
      ]
    },
    {
      "cell_type": "code",
      "execution_count": 46,
      "metadata": {
        "id": "kY7aWD_PuP0W"
      },
      "outputs": [
        {
          "name": "stdout",
          "output_type": "stream",
          "text": [
            "bounds.tsv saved\n"
          ]
        }
      ],
      "source": [
        "import pandas as pd, numpy as np\n",
        "\n",
        "F = pd.read_csv(\"features.tsv\", sep=\"\\t\")\n",
        "R = pd.read_csv(\"ratings.tsv\",  sep=\"\\t\")\n",
        "X = F.drop(columns=[\"recipe_slug\"]).to_numpy(float); r = R[\"rating\"].to_numpy(float)\n",
        "lam, alpha = 1.0, 2.0\n",
        "A = lam*np.eye(X.shape[1]) + X.T@X\n",
        "b = X.T@r\n",
        "Ainv = np.linalg.inv(A); theta = Ainv@b\n",
        "ub = (X@theta) + alpha*np.sqrt(np.einsum(\"ij,jk,ik->i\", X, Ainv, X))\n",
        "pd.DataFrame({\"recipe_slug\": F[\"recipe_slug\"], \"score_bound\": ub}).to_csv(\"bounds.tsv\", sep=\"\\t\", index=False)\n",
        "print(\"bounds.tsv saved\")\n"
      ]
    },
    {
      "cell_type": "markdown",
      "metadata": {
        "id": "ZQ4RPppFvG-S"
      },
      "source": [
        "Submit \"bounds.tsv\" in Gradescope."
      ]
    },
    {
      "cell_type": "markdown",
      "metadata": {
        "id": "AfazOSWlwYsP"
      },
      "source": [
        "## Part 6: Make Online Recommendations\n",
        "\n",
        "Implement LinUCB to make 100 recommendations starting with no data and using the same parameters as in part 5.\n",
        "One recommendation should be made at a time and you can break ties arbitrarily.\n",
        "After each recommendation, use the rating from part 1 as the reward to update the LinUCB data.\n",
        "Record the recommendations made in a file \"recommendations.tsv\" with columns \"recipe_slug\", \"score_bound\", and \"reward\".\n",
        "The rows in this file should be in the same order as the recommendations were made."
      ]
    },
    {
      "cell_type": "code",
      "execution_count": 47,
      "metadata": {
        "id": "hQ7r45B7wm4v"
      },
      "outputs": [
        {
          "name": "stdout",
          "output_type": "stream",
          "text": [
            "recommendations.tsv saved\n"
          ]
        }
      ],
      "source": [
        "import pandas as pd, numpy as np\n",
        "F = pd.read_csv(\"features.tsv\", sep=\"\\t\")\n",
        "R = pd.read_csv(\"ratings.tsv\",  sep=\"\\t\").set_index(\"recipe_slug\")[\"rating\"]\n",
        "X = F.drop(columns=[\"recipe_slug\"]).to_numpy(float); slugs = F[\"recipe_slug\"].tolist()\n",
        "lam, alpha = 1.0, 2.0\n",
        "A = lam*np.eye(X.shape[1]); b = np.zeros(X.shape[1]); recs=[]\n",
        "for _ in range(100):\n",
        "    Ainv = np.linalg.inv(A); theta = Ainv@b\n",
        "    ucb = (X@theta) + alpha*np.sqrt(np.einsum(\"ij,jk,ik->i\", X, Ainv, X))\n",
        "    i = int(np.argmax(ucb)); s = slugs[i]; r = float(R.loc[s])\n",
        "    recs.append((s, float(ucb[i]), r))\n",
        "    x = X[i]; A += np.outer(x,x); b += r*x\n",
        "pd.DataFrame(recs, columns=[\"recipe_slug\",\"score_bound\",\"reward\"]).to_csv(\"recommendations.tsv\", sep=\"\\t\", index=False)\n",
        "print(\"recommendations.tsv saved\")\n"
      ]
    },
    {
      "cell_type": "markdown",
      "metadata": {
        "id": "23jv0cD0woSt"
      },
      "source": [
        "Submit \"recommendations.tsv\" in Gradescope."
      ]
    },
    {
      "cell_type": "markdown",
      "metadata": {
        "id": "zi8lV2pbvWMs"
      },
      "source": [
        "## Part 7: Acknowledgments\n",
        "\n",
        "Make a file \"acknowledgments.txt\" documenting any outside sources or help on this project.\n",
        "If you discussed this assignment with anyone, please acknowledge them here.\n",
        "If you used any libraries not mentioned in this module's content, please list them with a brief explanation what you used them for.\n",
        "If you used any generative AI tools, please add links to your transcripts below, and any other information that you feel is necessary to comply with the generative AI policy.\n",
        "If no acknowledgements are appropriate, just write none in the file.\n"
      ]
    },
    {
      "cell_type": "markdown",
      "metadata": {
        "id": "SuNJe62UxCoH"
      },
      "source": [
        "Submit \"acknowledgments.txt\" in Gradescope."
      ]
    },
    {
      "cell_type": "markdown",
      "metadata": {
        "id": "smsTLuFcvR-I"
      },
      "source": [
        "## Part 8: Code\n",
        "\n",
        "Please submit a Jupyter notebook that can reproduce all your calculations and recreate the previously submitted files.\n"
      ]
    },
    {
      "cell_type": "markdown",
      "metadata": {
        "id": "3cgzHyF7wxpr"
      },
      "source": [
        "Submit \"project.ipynb\" in Gradescope."
      ]
    },
    {
      "cell_type": "code",
      "execution_count": 35,
      "metadata": {},
      "outputs": [
        {
          "name": "stdout",
          "output_type": "stream",
          "text": [
            "[OK] Part1 ratings cols \n",
            "[OK] Part1 extremes \n",
            "[OK] Part2 order match \n",
            "[OK] Part2 bias col \n",
            "[OK] Part2 one-hot 0/1 \n",
            "[OK] Part3 model cols \n",
            "[OK] Part4 estimates cols \n",
            "[OK] Part4 estimate range \n",
            "[OK] Part5 bounds cols \n",
            "[OK] Part5 one-per-recipe \n",
            "[OK] Part6 recs cols \n",
            "[OK] Part6 100 rounds \n",
            "[OK] Part6 reward range \n",
            "bacon-fried-rice estimate: 0.8676589574642223\n"
          ]
        },
        {
          "name": "stderr",
          "output_type": "stream",
          "text": [
            "/tmp/ipykernel_2330/1976842649.py:45: FutureWarning: Calling float on a single element Series is deprecated and will raise a TypeError in the future. Use float(ser.iloc[0]) instead\n",
            "  float(E.set_index(\"recipe_slug\").loc[\"bacon-fried-rice\"]))\n"
          ]
        }
      ],
      "source": [
        "import pandas as pd, numpy as np\n",
        "\n",
        "P=\".\"\n",
        "R = pd.read_csv(f\"{P}/ratings.tsv\", sep=\"\\t\")\n",
        "F = pd.read_csv(f\"{P}/features.tsv\", sep=\"\\t\")\n",
        "M = pd.read_csv(f\"{P}/model.tsv\", sep=\"\\t\")\n",
        "E = pd.read_csv(f\"{P}/estimates.tsv\", sep=\"\\t\")\n",
        "B = pd.read_csv(f\"{P}/bounds.tsv\", sep=\"\\t\")\n",
        "Q = pd.read_csv(f\"{P}/recommendations.tsv\", sep=\"\\t\")\n",
        "\n",
        "def ok(name,cond,msg=\"\"):\n",
        "    print(f\"[{'OK' if cond else 'FAIL'}] {name}\", (\"\" if cond else f\"→ {msg}\"))\n",
        "\n",
        "# Part 1\n",
        "ok(\"Part1 ratings cols\", list(R.columns)==[\"recipe_slug\",\"rating\"], \"cols must be [recipe_slug,rating]\")\n",
        "ok(\"Part1 extremes\", (R.rating.eq(0).sum()>=10 and R.rating.eq(1).sum()>=10),\n",
        "   f\"zeros={R.rating.eq(0).sum()}, ones={R.rating.eq(1).sum()}\")\n",
        "\n",
        "# Part 2\n",
        "ok(\"Part2 order match\", (F.recipe_slug.tolist()==R.recipe_slug.tolist()), \"features order must match ratings\")\n",
        "ok(\"Part2 bias col\", \"bias\" in F.columns, \"add bias=1\")\n",
        "X = F.drop(columns=[\"recipe_slug\",\"bias\"])\n",
        "ok(\"Part2 one-hot 0/1\", (X.max().le(1).all() and X.min().ge(0).all()), \"tag cols must be 0/1\")\n",
        "\n",
        "# Part 3\n",
        "ok(\"Part3 model cols\", list(M.columns)==[\"recipe_tag\",\"coefficient\"], \"cols must be [recipe_tag,coefficient]\")\n",
        "\n",
        "# Part 4\n",
        "ok(\"Part4 estimates cols\", list(E.columns)==[\"recipe_slug\",\"score_estimate\"], \"cols must be [recipe_slug,score_estimate]\")\n",
        "ok(\"Part4 estimate range\", (E.score_estimate.between(0,1).all()), \"clip to [0,1]\")\n",
        "\n",
        "# Part 5\n",
        "ok(\"Part5 bounds cols\", list(B.columns)==[\"recipe_slug\",\"score_bound\"], \"cols must be [recipe_slug,score_bound]\")\n",
        "ok(\"Part5 one-per-recipe\", (len(B)==len(R)), \"bounds must have one row per recipe\")\n",
        "\n",
        "# Part 6\n",
        "ok(\"Part6 recs cols\", list(Q.columns)==[\"recipe_slug\",\"score_bound\",\"reward\"],\n",
        "   \"cols must be [recipe_slug,score_bound,reward]\")\n",
        "ok(\"Part6 100 rounds\", (len(Q)==100), f\"have {len(Q)} rows\")\n",
        "ok(\"Part6 reward range\", Q.reward.between(0,1).all(), \"rewards must be from ratings.tsv\")\n",
        "\n",
        "# Optional bacon sanity\n",
        "try:\n",
        "    print(\"bacon-fried-rice estimate:\",\n",
        "          float(E.set_index(\"recipe_slug\").loc[\"bacon-fried-rice\"]))\n",
        "except Exception:\n",
        "    pass\n"
      ]
    }
  ],
  "metadata": {
    "colab": {
      "toc_visible": false
    },
    "kernelspec": {
      "display_name": "Python 3",
      "name": "python3"
    },
    "language_info": {
      "codemirror_mode": {
        "name": "ipython",
        "version": 3
      },
      "file_extension": ".py",
      "mimetype": "text/x-python",
      "name": "python",
      "nbconvert_exporter": "python",
      "pygments_lexer": "ipython3",
      "version": "3.12.1"
    }
  },
  "nbformat": 4,
  "nbformat_minor": 0
}
