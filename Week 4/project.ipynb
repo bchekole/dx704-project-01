{
  "cells": [
    {
      "cell_type": "markdown",
      "metadata": {
        "id": "Md413FzAvFD8"
      },
      "source": [
        "# DX 704 Week 4 Project\n",
        "\n",
        "This week's project will test the learning speed of linear contextual bandits compared to unoptimized approaches.\n",
        "You will start with building a preference data set for evaluation, and then implement different variations of LinUCB and visualize how fast they learn the preferences.\n"
      ]
    },
    {
      "cell_type": "markdown",
      "metadata": {
        "id": "D3gs-tquuzJe"
      },
      "source": [
        "The full project description, a template notebook and supporting code are available on GitHub: [Project 4 Materials](https://github.com/bu-cds-dx704/dx704-project-04).\n"
      ]
    },
    {
      "cell_type": "markdown",
      "metadata": {
        "id": "OguIjc5idW3Z"
      },
      "source": [
        "## Example Code\n",
        "\n",
        "You may find it helpful to refer to these GitHub repositories of Jupyter notebooks for example code.\n",
        "\n",
        "* https://github.com/bu-cds-omds/dx601-examples\n",
        "* https://github.com/bu-cds-omds/dx602-examples\n",
        "* https://github.com/bu-cds-omds/dx603-examples\n",
        "* https://github.com/bu-cds-omds/dx704-examples\n",
        "\n",
        "Any calculations demonstrated in code examples or videos may be found in these notebooks, and you are allowed to copy this example code in your homework answers."
      ]
    },
    {
      "cell_type": "markdown",
      "metadata": {
        "id": "C8oSLkMqvMFF"
      },
      "source": [
        "## Part 1: Collect Rating Data\n",
        "\n",
        "The file \"recipes.tsv\" in this repository has information about 100 recipes.\n",
        "Make a new file \"ratings.tsv\" with two columns, recipe_slug (from recipes.tsv) and rating.\n",
        "Populate the rating column with values between 0 and 1 where 0 is the worst and 1 is the best.\n",
        "You can assign these ratings however you want within that range, but try to make it reflect a consistent set of preferences.\n",
        "These could be your preferences, or a persona of your choosing (e.g. chocolate lover, bacon-obsessed, or sweet tooth).\n",
        "Make sure that there are at least 10 ratings of zero and at least 10 ratings of one.\n"
      ]
    },
    {
      "cell_type": "markdown",
      "metadata": {
        "id": "kAwViBgKfWER"
      },
      "source": [
        "Hint: You may find it more convenient to assign raw ratings from 1 to 5 and then remap them as follows.\n",
        "\n",
        "`ratings[\"rating\"] = (ratings[\"rating_raw\"] - 1) * 0.25`"
      ]
    },
    {
      "cell_type": "markdown",
      "metadata": {
        "id": "Eh7UaX6OvuWo"
      },
      "source": [
        "Submit \"ratings.tsv\" in Gradescope."
      ]
    },
    {
      "cell_type": "code",
      "execution_count": 17,
      "metadata": {},
      "outputs": [
        {
          "name": "stdout",
          "output_type": "stream",
          "text": [
            "ratings.tsv created with 100 rows\n"
          ]
        }
      ],
      "source": [
        "import pandas as pd\n",
        "import numpy as np\n",
        "\n",
        "#Load the recipes file\n",
        "recipes = pd.read_csv(\"recipes.tsv\", sep=\"\\t\")\n",
        "\n",
        "slugs = recipes['recipe_slug']\n",
        "\n",
        "np.random.seed(42)  # for reproducibility\n",
        "ratings = np.random.uniform(0.2, 0.8, size=len(slugs))  \n",
        "\n",
        "ratings[:10] = 0.0  \n",
        "ratings[10:20] = 1.0  \n",
        "\n",
        "\n",
        "ratings_df = pd.DataFrame({\n",
        "    'recipe_slug': slugs,\n",
        "    'rating': ratings\n",
        "})\n",
        "ratings_df.to_csv(\"ratings.tsv\", sep=\"\\t\", index=False)\n",
        "\n",
        "print(\"ratings.tsv created with\", len(ratings_df), \"rows\")\n"
      ]
    },
    {
      "cell_type": "markdown",
      "metadata": {
        "id": "NiCwaZwr5M67"
      },
      "source": [
        "## Part 2: Construct Model Input\n",
        "\n",
        "Use your file \"ratings.tsv\" combined with \"recipe-tags.tsv\" to create a new file \"features.tsv\" with a column recipe_slug, a column bias which is hard-coded to one, and a column for each tag that appears in \"recipe-tags.tsv\".\n",
        "The tag column in this file should be a 0-1 encoding of the recipe tags for each recipe.\n",
        "[Pandas reshaping function methods](https://pandas.pydata.org/docs/user_guide/reshaping.html) may be helpful."
      ]
    },
    {
      "cell_type": "markdown",
      "metadata": {
        "id": "8WWi_JJXocEb"
      },
      "source": [
        "The bias column will make later LinUCB calculations easier since it will just be another dimension."
      ]
    },
    {
      "cell_type": "markdown",
      "metadata": {
        "id": "MHR-BsD9539j"
      },
      "source": [
        "Hint: For later modeling steps, it will be important to have the feature data (inputs) and the rating data (target outputs) in the same order.\n",
        "It is highly recommended to make sure that \"features.tsv\" and \"ratings.tsv\" have the recipe slugs in the same order."
      ]
    },
    {
      "cell_type": "code",
      "execution_count": 26,
      "metadata": {
        "id": "cGvj258d8nnv"
      },
      "outputs": [
        {
          "name": "stdout",
          "output_type": "stream",
          "text": [
            "features.tsv saved (100, 298)\n"
          ]
        }
      ],
      "source": [
        "# YOUR CHANGES HERE\n",
        "\n",
        "import pandas as pd\n",
        "\n",
        "ratings = pd.read_csv(\"ratings.tsv\", sep=\"\\t\")\n",
        "tags    = pd.read_csv(\"recipe-tags.tsv\", sep=\"\\t\")\n",
        "\n",
        "ratings[\"slug_norm\"] = ratings[\"recipe_slug\"].astype(str).str.strip().str.lower()\n",
        "\n",
        "slug_col = \"recipe_slug\" if \"recipe_slug\" in tags.columns else \"slug\"\n",
        "tag_col  = \"tag\" if \"tag\" in tags.columns else \"recipe_tag\"\n",
        "tags[\"slug_norm\"] = tags[slug_col].astype(str).str.strip().str.lower()\n",
        "\n",
        "X = pd.crosstab(tags[\"slug_norm\"], tags[tag_col]).clip(0,1)\n",
        "X = X.reindex(ratings[\"slug_norm\"], fill_value=0).astype(\"int8\")\n",
        "\n",
        "features = pd.concat(\n",
        "    [ratings[\"recipe_slug\"].reset_index(drop=True),\n",
        "     pd.Series(1.0, index=X.index, name=\"bias\").reset_index(drop=True),\n",
        "     X.reset_index(drop=True)],\n",
        "    axis=1\n",
        ")\n",
        "\n",
        "features.to_csv(\"features.tsv\", sep=\"\\t\", index=False)\n",
        "print(\"features.tsv saved\", features.shape)\n"
      ]
    },
    {
      "cell_type": "markdown",
      "metadata": {
        "id": "w63ji-Oi6oH7"
      },
      "source": [
        "Submit \"features.tsv\" in Gradescope."
      ]
    },
    {
      "cell_type": "markdown",
      "metadata": {
        "id": "4TeXvznlwJzo"
      },
      "source": [
        "## Part 3: Linear Preference Model\n",
        "\n",
        "Use your feature and rating files to build a ridge regression model with ridge regression's regularization parameter $\\alpha$ set to 1.\n"
      ]
    },
    {
      "cell_type": "markdown",
      "metadata": {
        "id": "aVlUnVv4oDIk"
      },
      "source": [
        "Hint: If you are using scikit-learn modeling classes, you should use `fit_intercept=False` since that intercept value will be redundant with the bias coefficient."
      ]
    },
    {
      "cell_type": "markdown",
      "metadata": {
        "id": "NLrBu-z7A45W"
      },
      "source": [
        "Hint: The estimate component of the bounds should match the previous estimate, so you should be able to just focus on the variance component of the bounds now."
      ]
    },
    {
      "cell_type": "code",
      "execution_count": null,
      "metadata": {
        "id": "dxtiRunPwPYz"
      },
      "outputs": [
        {
          "name": "stdout",
          "output_type": "stream",
          "text": [
            "Coefficients (including bias):\n",
            "bias            0.426626\n",
            "alfredo         0.061913\n",
            "almond         -0.046907\n",
            "american        0.041269\n",
            "appetizer      -0.049361\n",
            "                  ...   \n",
            "vegetarian     -0.082164\n",
            "warm            0.018635\n",
            "whippedcream    0.026235\n",
            "winter         -0.081684\n",
            "yeastdough     -0.068055\n",
            "Length: 297, dtype: float64\n"
          ]
        }
      ],
      "source": [
        "# YOUR CHANGES HERE\n",
        "import pandas as pd\n",
        "from sklearn.linear_model import Ridge\n",
        "\n",
        "# Load features and ratings\n",
        "X = pd.read_csv(\"features.tsv\", sep=\"\\t\")\n",
        "y = pd.read_csv(\"ratings.tsv\", sep=\"\\t\")[\"rating\"]\n",
        "\n",
        "# Drop recipe_slug to get only numeric features\n",
        "X_num = X.drop(columns=[\"recipe_slug\"])\n",
        "\n",
        "# Fit ridge regression with alpha=1 and no intercept\n",
        "model = Ridge(alpha=1.0, fit_intercept=False)\n",
        "model.fit(X_num, y)\n",
        "\n",
        "print(\"Coefficients (including bias):\")\n",
        "print(pd.Series(model.coef_, index=X_num.columns))\n"
      ]
    },
    {
      "cell_type": "markdown",
      "metadata": {
        "id": "fw9LaHF_8tsA"
      },
      "source": [
        "Save the coefficients of this model in a file \"model.tsv\" with columns \"recipe_tag\" and \"coefficient\".\n",
        "Do not add anything for the `intercept_` attribute of a scikit-learn model; this will be covered by the coefficient for the bias column added in part 2."
      ]
    },
    {
      "cell_type": "code",
      "execution_count": null,
      "metadata": {
        "id": "fiMBlU4L8uSR"
      },
      "outputs": [
        {
          "name": "stdout",
          "output_type": "stream",
          "text": [
            "model.tsv saved (297, 2)\n"
          ]
        }
      ],
      "source": [
        "# YOUR CHANGES HERE\n",
        "import pandas as pd\n",
        "from sklearn.linear_model import Ridge\n",
        "\n",
        "# Load data\n",
        "X = pd.read_csv(\"features.tsv\", sep=\"\\t\")\n",
        "y = pd.read_csv(\"ratings.tsv\",  sep=\"\\t\")[\"rating\"]\n",
        "\n",
        "\n",
        "X_num = X.drop(columns=[\"recipe_slug\"]).astype(float)\n",
        "\n",
        "model = Ridge(alpha=1.0, fit_intercept=False)\n",
        "model.fit(X_num, y)\n",
        "\n",
        "coef_df = pd.DataFrame({\n",
        "    \"recipe_tag\": X_num.columns,\n",
        "    \"coefficient\": model.coef_\n",
        "})\n",
        "coef_df.to_csv(\"model.tsv\", sep=\"\\t\", index=False)\n",
        "print(\"model.tsv saved\", coef_df.shape)\n"
      ]
    },
    {
      "cell_type": "markdown",
      "metadata": {
        "id": "86uS_zZ0wQxC"
      },
      "source": [
        "Submit \"model.tsv\" in Gradescope."
      ]
    },
    {
      "cell_type": "markdown",
      "metadata": {
        "id": "B1Nfs7zCsDpj"
      },
      "source": [
        "## Part 4: Recipe Estimates\n",
        "\n",
        "Use the recipe model to estimate the score of every recipe.\n",
        "Save these estimates to a file \"estimates.tsv\" with columns recipe_slug and score_estimate."
      ]
    },
    {
      "cell_type": "code",
      "execution_count": 21,
      "metadata": {
        "id": "pIClPwYVso5a"
      },
      "outputs": [
        {
          "name": "stdout",
          "output_type": "stream",
          "text": [
            "estimates.tsv saved (100, 2)\n"
          ]
        }
      ],
      "source": [
        "# YOUR CHANGES HERE\n",
        "import pandas as pd\n",
        "import numpy as np\n",
        "\n",
        "# Load features and model\n",
        "X = pd.read_csv(\"features.tsv\", sep=\"\\t\")\n",
        "coef = pd.read_csv(\"model.tsv\", sep=\"\\t\").set_index(\"recipe_tag\")[\"coefficient\"]\n",
        "\n",
        "# Align columns\n",
        "feat_cols = [c for c in X.columns if c not in (\"recipe_slug\",)]\n",
        "coef = coef.reindex(feat_cols).fillna(0.0)\n",
        "\n",
        "# Compute score = dot(features, coefficients), preserving order\n",
        "X_num = X[feat_cols].astype(float)\n",
        "scores = X_num.values @ coef.values\n",
        "\n",
        "# Save\n",
        "out = pd.DataFrame({\"recipe_slug\": X[\"recipe_slug\"], \"score_estimate\": scores})\n",
        "out.to_csv(\"estimates.tsv\", sep=\"\\t\", index=False)\n",
        "print(\"estimates.tsv saved\", out.shape)\n"
      ]
    },
    {
      "cell_type": "markdown",
      "metadata": {
        "id": "i5t3uSE_srMA"
      },
      "source": [
        "Submit \"estimates.tsv\" in Gradescope."
      ]
    },
    {
      "cell_type": "markdown",
      "metadata": {
        "id": "yTBplNhRst8q"
      },
      "source": [
        "## Part 5: LinUCB Bounds\n",
        "\n",
        "Calculate the upper bounds of LinUCB using data corresponding to trying every recipe once and receiving the rating in \"ratings.tsv\" as the reward.\n",
        "Keep the ridge regression regularization parameter at 1, and set LinUCB's $\\alpha$ parameter to 2.\n",
        "Save these upper bounds to a file \"bounds.tsv\" with columns recipe_slug and score_bound."
      ]
    },
    {
      "cell_type": "code",
      "execution_count": 22,
      "metadata": {
        "id": "kY7aWD_PuP0W"
      },
      "outputs": [
        {
          "name": "stdout",
          "output_type": "stream",
          "text": [
            "bounds.tsv saved (100, 2)\n"
          ]
        }
      ],
      "source": [
        "# YOUR CHANGES HERE\n",
        "\n",
        "import numpy as np\n",
        "import pandas as pd\n",
        "\n",
        "# Inputs\n",
        "Xdf = pd.read_csv(\"features.tsv\", sep=\"\\t\")\n",
        "ydf = pd.read_csv(\"ratings.tsv\",  sep=\"\\t\")\n",
        "wdf = pd.read_csv(\"model.tsv\",    sep=\"\\t\")  \n",
        "\n",
        "# Align columns\n",
        "feat_cols = [c for c in Xdf.columns if c != \"recipe_slug\"]\n",
        "X = Xdf[feat_cols].astype(float).values\n",
        "y = ydf[\"rating\"].astype(float).values\n",
        "w = wdf.set_index(\"recipe_tag\").reindex(feat_cols)[\"coefficient\"].astype(float).values  # theta_hat\n",
        "\n",
        "# Ridge parameters\n",
        "lam = 1.0          # ridge (matches Part 3 alpha)\n",
        "alpha_ucb = 2.0    # LinUCB alpha\n",
        "\n",
        "# A = X^T X + λ I,  A_inv = (X^T X + λI)^{-1}\n",
        "XT = X.T\n",
        "A = XT @ X + lam * np.eye(X.shape[1])\n",
        "A_inv = np.linalg.inv(A)\n",
        "\n",
        "# Estimates (should match Part 4 if same model): X @ w\n",
        "mu = X @ w\n",
        "\n",
        "# Variance term per recipe: sqrt(x^T A_inv x)\n",
        "# Efficiently compute diag(X A_inv X^T)\n",
        "XAinv = X @ A_inv\n",
        "var_term = np.sqrt(np.sum(XAinv * X, axis=1))\n",
        "\n",
        "# Upper confidence bound\n",
        "ucb = mu + alpha_ucb * var_term\n",
        "\n",
        "# Save\n",
        "out = pd.DataFrame({\"recipe_slug\": Xdf[\"recipe_slug\"], \"score_bound\": ucb})\n",
        "out.to_csv(\"bounds.tsv\", sep=\"\\t\", index=False)\n",
        "print(\"bounds.tsv saved\", out.shape)\n"
      ]
    },
    {
      "cell_type": "markdown",
      "metadata": {
        "id": "ZQ4RPppFvG-S"
      },
      "source": [
        "Submit \"bounds.tsv\" in Gradescope."
      ]
    },
    {
      "cell_type": "markdown",
      "metadata": {
        "id": "AfazOSWlwYsP"
      },
      "source": [
        "## Part 6: Make Online Recommendations\n",
        "\n",
        "Implement LinUCB to make 100 recommendations starting with no data and using the same parameters as in part 5.\n",
        "One recommendation should be made at a time and you can break ties arbitrarily.\n",
        "After each recommendation, use the rating from part 1 as the reward to update the LinUCB data.\n",
        "Record the recommendations made in a file \"recommendations.tsv\" with columns \"recipe_slug\", \"score_bound\", and \"reward\".\n",
        "The rows in this file should be in the same order as the recommendations were made."
      ]
    },
    {
      "cell_type": "code",
      "execution_count": 23,
      "metadata": {
        "id": "hQ7r45B7wm4v"
      },
      "outputs": [
        {
          "name": "stdout",
          "output_type": "stream",
          "text": [
            "recommendations.tsv saved (100, 3)\n"
          ]
        }
      ],
      "source": [
        "# YOUR CHANGES HERE\n",
        "\n",
        "import numpy as np\n",
        "import pandas as pd\n",
        "\n",
        "# Load data\n",
        "Xdf = pd.read_csv(\"features.tsv\", sep=\"\\t\")\n",
        "ydf = pd.read_csv(\"ratings.tsv\",  sep=\"\\t\")\n",
        "feat_cols = [c for c in Xdf.columns if c != \"recipe_slug\"]\n",
        "\n",
        "X = Xdf[feat_cols].astype(float).values       # (N, d)\n",
        "y_map = dict(zip(Xdf[\"recipe_slug\"], ydf[\"rating\"].astype(float)))\n",
        "slugs = Xdf[\"recipe_slug\"].tolist()\n",
        "\n",
        "# LinUCB params\n",
        "lam = 1.0\n",
        "alpha = 2.0\n",
        "N, d = X.shape\n",
        "\n",
        "# Initialize\n",
        "A = lam * np.eye(d)        \n",
        "b = np.zeros(d)           \n",
        "A_inv = np.linalg.inv(A)   \n",
        "recs = []\n",
        "\n",
        "for t in range(100):\n",
        "    theta = A_inv @ b                        \n",
        "    # UCB for all arms\n",
        "    XA = X @ A_inv                            \n",
        "    var = np.sqrt(np.sum(XA * X, axis=1))     \n",
        "    mu  = X @ theta\n",
        "    p   = mu + alpha * var\n",
        "\n",
        "\n",
        "    i = int(np.argmax(p))\n",
        "    slug = slugs[i]\n",
        "    x_i = X[i]\n",
        "    r_i = float(y_map[slug])                 \n",
        "\n",
        "    # Log before update (score_bound at selection time)\n",
        "    recs.append((slug, float(p[i]), r_i))\n",
        "\n",
        "   \n",
        "    Ax = A_inv @ x_i\n",
        "    denom = 1.0 + x_i @ Ax\n",
        "    A_inv = A_inv - np.outer(Ax, Ax) / denom\n",
        "    b = b + r_i * x_i\n",
        "\n",
        "# Save recommendations\n",
        "out = pd.DataFrame(recs, columns=[\"recipe_slug\", \"score_bound\", \"reward\"])\n",
        "out.to_csv(\"recommendations.tsv\", sep=\"\\t\", index=False)\n",
        "print(\"recommendations.tsv saved\", out.shape)\n"
      ]
    },
    {
      "cell_type": "markdown",
      "metadata": {
        "id": "23jv0cD0woSt"
      },
      "source": [
        "Submit \"recommendations.tsv\" in Gradescope."
      ]
    },
    {
      "cell_type": "markdown",
      "metadata": {
        "id": "zi8lV2pbvWMs"
      },
      "source": [
        "## Part 7: Acknowledgments\n",
        "\n",
        "Make a file \"acknowledgments.txt\" documenting any outside sources or help on this project.\n",
        "If you discussed this assignment with anyone, please acknowledge them here.\n",
        "If you used any libraries not mentioned in this module's content, please list them with a brief explanation what you used them for.\n",
        "If you used any generative AI tools, please add links to your transcripts below, and any other information that you feel is necessary to comply with the generative AI policy.\n",
        "If no acknowledgements are appropriate, just write none in the file.\n"
      ]
    },
    {
      "cell_type": "markdown",
      "metadata": {
        "id": "SuNJe62UxCoH"
      },
      "source": [
        "Submit \"acknowledgments.txt\" in Gradescope."
      ]
    },
    {
      "cell_type": "code",
      "execution_count": 24,
      "metadata": {},
      "outputs": [],
      "source": [
        "ack_text = \"\"\"Acknowledgments\n",
        "\n",
        "I used ChatGPT as a study partner to clarify  and check errors, and simplify code while completing this project. \n",
        "\n",
        "\n",
        "For transparency, I am including links to the transcripts of these interactions:\n",
        "\n",
        "1. ChatGPT guidance: [https://chatgpt.com/share/68d20a8d-0870-8007-bb79-080efab54c33]\n",
        "These resources document the support I received and ensure compliance with the class generative AI policy.\n",
        "\"\"\"\n",
        "\n",
        "with open(\"acknowledgments.txt\",\"w\") as f:\n",
        "    f.write(ack_text)\n"
      ]
    },
    {
      "cell_type": "markdown",
      "metadata": {
        "id": "smsTLuFcvR-I"
      },
      "source": [
        "## Part 8: Code\n",
        "\n",
        "Please submit a Jupyter notebook that can reproduce all your calculations and recreate the previously submitted files.\n"
      ]
    },
    {
      "cell_type": "markdown",
      "metadata": {
        "id": "3cgzHyF7wxpr"
      },
      "source": [
        "Submit \"project.ipynb\" in Gradescope."
      ]
    }
  ],
  "metadata": {
    "colab": {
      "toc_visible": false
    },
    "kernelspec": {
      "display_name": "Python 3",
      "name": "python3"
    },
    "language_info": {
      "codemirror_mode": {
        "name": "ipython",
        "version": 3
      },
      "file_extension": ".py",
      "mimetype": "text/x-python",
      "name": "python",
      "nbconvert_exporter": "python",
      "pygments_lexer": "ipython3",
      "version": "3.12.1"
    }
  },
  "nbformat": 4,
  "nbformat_minor": 0
}
