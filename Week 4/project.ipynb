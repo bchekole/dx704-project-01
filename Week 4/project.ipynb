{
  "cells": [
    {
      "cell_type": "markdown",
      "metadata": {
        "id": "Md413FzAvFD8"
      },
      "source": [
        "# DX 704 Week 4 Project\n",
        "\n",
        "This week's project will test the learning speed of linear contextual bandits compared to unoptimized approaches.\n",
        "You will start with building a preference data set for evaluation, and then implement different variations of LinUCB and visualize how fast they learn the preferences.\n"
      ]
    },
    {
      "cell_type": "markdown",
      "metadata": {
        "id": "D3gs-tquuzJe"
      },
      "source": [
        "The full project description, a template notebook and supporting code are available on GitHub: [Project 4 Materials](https://github.com/bu-cds-dx704/dx704-project-04).\n"
      ]
    },
    {
      "cell_type": "markdown",
      "metadata": {
        "id": "OguIjc5idW3Z"
      },
      "source": [
        "## Example Code\n",
        "\n",
        "You may find it helpful to refer to these GitHub repositories of Jupyter notebooks for example code.\n",
        "\n",
        "* https://github.com/bu-cds-omds/dx601-examples\n",
        "* https://github.com/bu-cds-omds/dx602-examples\n",
        "* https://github.com/bu-cds-omds/dx603-examples\n",
        "* https://github.com/bu-cds-omds/dx704-examples\n",
        "\n",
        "Any calculations demonstrated in code examples or videos may be found in these notebooks, and you are allowed to copy this example code in your homework answers."
      ]
    },
    {
      "cell_type": "markdown",
      "metadata": {
        "id": "C8oSLkMqvMFF"
      },
      "source": [
        "## Part 1: Collect Rating Data\n",
        "\n",
        "The file \"recipes.tsv\" in this repository has information about 100 recipes.\n",
        "Make a new file \"ratings.tsv\" with two columns, recipe_slug (from recipes.tsv) and rating.\n",
        "Populate the rating column with values between 0 and 1 where 0 is the worst and 1 is the best.\n",
        "You can assign these ratings however you want within that range, but try to make it reflect a consistent set of preferences.\n",
        "These could be your preferences, or a persona of your choosing (e.g. chocolate lover, bacon-obsessed, or sweet tooth).\n",
        "Make sure that there are at least 10 ratings of zero and at least 10 ratings of one.\n"
      ]
    },
    {
      "cell_type": "markdown",
      "metadata": {
        "id": "kAwViBgKfWER"
      },
      "source": [
        "Hint: You may find it more convenient to assign raw ratings from 1 to 5 and then remap them as follows.\n",
        "\n",
        "`ratings[\"rating\"] = (ratings[\"rating_raw\"] - 1) * 0.25`"
      ]
    },
    {
      "cell_type": "code",
      "execution_count": 39,
      "metadata": {},
      "outputs": [
        {
          "name": "stdout",
          "output_type": "stream",
          "text": [
            "ratings.tsv saved\n"
          ]
        }
      ],
      "source": [
        "import pandas as pd, re\n",
        "\n",
        "r = pd.read_csv(\"recipes.tsv\", sep=\"\\t\")[[\"recipe_slug\",\"recipe_title\"]]\n",
        "t = pd.read_csv(\"recipe-tags.tsv\", sep=\"\\t\")\n",
        "\n",
        "r[\"rating_raw\"] = 2  # default -> 0.25\n",
        "H = r\"(?i)\\b(?:vegan|vegetarian|salad|grilled|baked|steamed|quinoa|kale|spinach|broccoli|chickpea|lentil|tofu)\\b\"\n",
        "B = r\"\\bbacon\\b\"\n",
        "\n",
        "# healthy -> 5, bacon (title or tags) -> 1\n",
        "r.loc[r.recipe_title.str.contains(H, regex=True, na=False), \"rating_raw\"] = 5\n",
        "r.loc[r.recipe_title.str.contains(B, case=False, na=False), \"rating_raw\"] = 1\n",
        "bacon = set(t.loc[t.recipe_tag.str.contains(B, case=False, na=False), \"recipe_slug\"])\n",
        "r.loc[r.recipe_slug.isin(bacon), \"rating_raw\"] = 1\n",
        "\n",
        "# ensure ≥10 zeros/ones (never pick bacon for ones)\n",
        "need0 = max(0, 10 - (r.rating_raw==1).sum())\n",
        "if need0: r.loc[r[r.rating_raw>1].sample(need0, random_state=0).index, \"rating_raw\"] = 1\n",
        "need1 = max(0, 10 - (r.rating_raw==5).sum())\n",
        "if need1:\n",
        "    pool = r[(~r.recipe_slug.isin(bacon)) & (r.rating_raw<5)]\n",
        "    r.loc[pool.sample(need1, random_state=0).index, \"rating_raw\"] = 5\n",
        "\n",
        "r[\"rating\"] = (r[\"rating_raw\"] - 1) * 0.25\n",
        "r[[\"recipe_slug\",\"rating\"]].to_csv(\"ratings.tsv\", sep=\"\\t\", index=False)\n",
        "print(\"ratings.tsv saved\")\n"
      ]
    },
    {
      "cell_type": "markdown",
      "metadata": {
        "id": "Eh7UaX6OvuWo"
      },
      "source": [
        "Submit \"ratings.tsv\" in Gradescope."
      ]
    },
    {
      "cell_type": "markdown",
      "metadata": {
        "id": "NiCwaZwr5M67"
      },
      "source": [
        "## Part 2: Construct Model Input\n",
        "\n",
        "Use your file \"ratings.tsv\" combined with \"recipe-tags.tsv\" to create a new file \"features.tsv\" with a column recipe_slug, a column bias which is hard-coded to one, and a column for each tag that appears in \"recipe-tags.tsv\".\n",
        "The tag column in this file should be a 0-1 encoding of the recipe tags for each recipe.\n",
        "[Pandas reshaping function methods](https://pandas.pydata.org/docs/user_guide/reshaping.html) may be helpful."
      ]
    },
    {
      "cell_type": "markdown",
      "metadata": {
        "id": "8WWi_JJXocEb"
      },
      "source": [
        "The bias column will make later LinUCB calculations easier since it will just be another dimension."
      ]
    },
    {
      "cell_type": "markdown",
      "metadata": {
        "id": "MHR-BsD9539j"
      },
      "source": [
        "Hint: For later modeling steps, it will be important to have the feature data (inputs) and the rating data (target outputs) in the same order.\n",
        "It is highly recommended to make sure that \"features.tsv\" and \"ratings.tsv\" have the recipe slugs in the same order."
      ]
    },
    {
      "cell_type": "code",
      "execution_count": 40,
      "metadata": {
        "id": "cGvj258d8nnv"
      },
      "outputs": [
        {
          "name": "stdout",
          "output_type": "stream",
          "text": [
            "tags expected: 296 tags in features: 296\n",
            "features.tsv saved (100, 298)\n"
          ]
        }
      ],
      "source": [
        "\n",
        "import pandas as pd\n",
        "\n",
        "ratings = pd.read_csv(\"ratings.tsv\", sep=\"\\t\", dtype={\"recipe_slug\":str})\n",
        "tags    = pd.read_csv(\"recipe-tags.tsv\", sep=\"\\t\", dtype={\"recipe_slug\":str,\"recipe_tag\":str})\n",
        "\n",
        "ratings[\"slug_norm\"] = ratings[\"recipe_slug\"].str.strip().str.lower()\n",
        "tags[\"slug_norm\"]    = tags[\"recipe_slug\"].str.strip().str.lower()\n",
        "\n",
        "all_tags = sorted(tags[\"recipe_tag\"].astype(str).unique())\n",
        "\n",
        "\n",
        "X = pd.crosstab(index=tags[\"slug_norm\"], columns=tags[\"recipe_tag\"]).clip(0,1)\n",
        "X = X.reindex(columns=all_tags, fill_value=0)\n",
        "\n",
        "# Alignig rows to ratings order\n",
        "X = X.reindex(index=ratings[\"slug_norm\"], fill_value=0).astype(\"int8\")\n",
        "\n",
        "features = pd.concat(\n",
        "    [\n",
        "        ratings[\"recipe_slug\"].reset_index(drop=True),\n",
        "        pd.Series(1, index=X.index, name=\"bias\", dtype=\"int8\").reset_index(drop=True),\n",
        "        X.reset_index(drop=True),\n",
        "    ],\n",
        "    axis=1,\n",
        ")\n",
        "\n",
        "print(\"tags expected:\", len(all_tags), \"tags in features:\", features.shape[1]-2)\n",
        "features.to_csv(\"features.tsv\", sep=\"\\t\", index=False)\n",
        "print(\"features.tsv saved\", features.shape)\n"
      ]
    },
    {
      "cell_type": "markdown",
      "metadata": {
        "id": "w63ji-Oi6oH7"
      },
      "source": [
        "Submit \"features.tsv\" in Gradescope."
      ]
    },
    {
      "cell_type": "markdown",
      "metadata": {
        "id": "4TeXvznlwJzo"
      },
      "source": [
        "## Part 3: Linear Preference Model\n",
        "\n",
        "Use your feature and rating files to build a ridge regression model with ridge regression's regularization parameter $\\alpha$ set to 1.\n"
      ]
    },
    {
      "cell_type": "markdown",
      "metadata": {
        "id": "aVlUnVv4oDIk"
      },
      "source": [
        "Hint: If you are using scikit-learn modeling classes, you should use `fit_intercept=False` since that intercept value will be redundant with the bias coefficient."
      ]
    },
    {
      "cell_type": "markdown",
      "metadata": {
        "id": "NLrBu-z7A45W"
      },
      "source": [
        "Hint: The estimate component of the bounds should match the previous estimate, so you should be able to just focus on the variance component of the bounds now."
      ]
    },
    {
      "cell_type": "code",
      "execution_count": 41,
      "metadata": {},
      "outputs": [
        {
          "name": "stdout",
          "output_type": "stream",
          "text": [
            "model.tsv saved — rows: 296 (tags only)\n"
          ]
        }
      ],
      "source": [
        "\n",
        "import numpy as np, pandas as pd\n",
        "\n",
        "F = pd.read_csv(\"features.tsv\", sep=\"\\t\")\n",
        "R = pd.read_csv(\"ratings.tsv\",  sep=\"\\t\")\n",
        "\n",
        "tag_cols = sorted([c for c in F.columns if c not in (\"recipe_slug\",\"bias\")])\n",
        "\n",
        "# Build design with bias first, then tags (bias included in fit, will not be saved)\n",
        "model_cols = [\"bias\"] + tag_cols\n",
        "X = F[model_cols].to_numpy(float)\n",
        "y = R[\"rating\"].astype(float).to_numpy()\n",
        "\n",
        "# Ridge λ=1 with unpenalized bias\n",
        "lam = 1.0\n",
        "p = X.shape[1]\n",
        "I = np.eye(p)\n",
        "I[0,0] = 0.0  # don't penalize bias\n",
        "\n",
        "w = np.linalg.solve(X.T @ X + lam*I, X.T @ y)\n",
        "\n",
        "tag_coefs = w[1:]  # skip bias\n",
        "pd.DataFrame({\"recipe_tag\": tag_cols, \"coefficient\": tag_coefs}).to_csv(\n",
        "    \"model.tsv\", sep=\"\\t\", index=False\n",
        ")\n",
        "\n",
        "print(\"model.tsv saved — rows:\", len(tag_cols), \"(tags only)\")\n"
      ]
    },
    {
      "cell_type": "markdown",
      "metadata": {
        "id": "fw9LaHF_8tsA"
      },
      "source": [
        "Save the coefficients of this model in a file \"model.tsv\" with columns \"recipe_tag\" and \"coefficient\".\n",
        "Do not include the bias."
      ]
    },
    {
      "cell_type": "markdown",
      "metadata": {
        "id": "86uS_zZ0wQxC"
      },
      "source": [
        "Submit \"model.tsv\" in Gradescope."
      ]
    },
    {
      "cell_type": "markdown",
      "metadata": {
        "id": "B1Nfs7zCsDpj"
      },
      "source": [
        "## Part 4: Recipe Estimates\n",
        "\n",
        "Use the recipe model to estimate the score of every recipe.\n",
        "Save these estimates to a file \"estimates.tsv\" with columns recipe_slug and score_estimate."
      ]
    },
    {
      "cell_type": "code",
      "execution_count": 42,
      "metadata": {
        "id": "pIClPwYVso5a"
      },
      "outputs": [
        {
          "name": "stdout",
          "output_type": "stream",
          "text": [
            "estimates.tsv saved — rows: 100\n"
          ]
        }
      ],
      "source": [
        "\n",
        "import numpy as np, pandas as pd\n",
        "\n",
        "F = pd.read_csv(\"features.tsv\", sep=\"\\t\")\n",
        "\n",
        "\n",
        "tag_cols = sorted([c for c in F.columns if c not in (\"recipe_slug\",\"bias\")])\n",
        "model_cols = [\"bias\"] + tag_cols\n",
        "\n",
        "R = pd.read_csv(\"ratings.tsv\", sep=\"\\t\")\n",
        "X = F[model_cols].to_numpy(float)\n",
        "y = R[\"rating\"].astype(float).to_numpy()\n",
        "\n",
        "lam = 1.0\n",
        "p = X.shape[1]\n",
        "I = np.eye(p); I[0,0] = 0.0\n",
        "w = np.linalg.solve(X.T @ X + lam*I, X.T @ y)\n",
        "\n",
        "pred = X @ w\n",
        "pd.DataFrame({\"recipe_slug\": F[\"recipe_slug\"], \"score_estimate\": pred}).to_csv(\n",
        "    \"estimates.tsv\", sep=\"\\t\", index=False\n",
        ")\n",
        "\n",
        "print(\"estimates.tsv saved — rows:\", len(pred))\n"
      ]
    },
    {
      "cell_type": "markdown",
      "metadata": {
        "id": "i5t3uSE_srMA"
      },
      "source": [
        "Submit \"estimates.tsv\" in Gradescope."
      ]
    },
    {
      "cell_type": "markdown",
      "metadata": {
        "id": "yTBplNhRst8q"
      },
      "source": [
        "## Part 5: LinUCB Bounds\n",
        "\n",
        "Calculate the upper bounds of LinUCB using data corresponding to trying every recipe once and receiving the rating in \"ratings.tsv\" as the reward.\n",
        "Keep the ridge regression regularization parameter at 1, and set LinUCB's $\\alpha$ parameter to 2.\n",
        "Save these upper bounds to a file \"bounds.tsv\" with columns recipe_slug and score_bound."
      ]
    },
    {
      "cell_type": "code",
      "execution_count": 43,
      "metadata": {
        "id": "kY7aWD_PuP0W"
      },
      "outputs": [
        {
          "name": "stdout",
          "output_type": "stream",
          "text": [
            "bounds.tsv saved\n"
          ]
        }
      ],
      "source": [
        "import pandas as pd, numpy as np\n",
        "\n",
        "F = pd.read_csv(\"features.tsv\", sep=\"\\t\")\n",
        "R = pd.read_csv(\"ratings.tsv\",  sep=\"\\t\")\n",
        "X = F.drop(columns=[\"recipe_slug\"]).to_numpy(float); r = R[\"rating\"].to_numpy(float)\n",
        "lam, alpha = 1.0, 2.0\n",
        "A = lam*np.eye(X.shape[1]) + X.T@X\n",
        "b = X.T@r\n",
        "Ainv = np.linalg.inv(A); theta = Ainv@b\n",
        "ub = (X@theta) + alpha*np.sqrt(np.einsum(\"ij,jk,ik->i\", X, Ainv, X))\n",
        "pd.DataFrame({\"recipe_slug\": F[\"recipe_slug\"], \"score_bound\": ub}).to_csv(\"bounds.tsv\", sep=\"\\t\", index=False)\n",
        "print(\"bounds.tsv saved\")\n"
      ]
    },
    {
      "cell_type": "markdown",
      "metadata": {
        "id": "ZQ4RPppFvG-S"
      },
      "source": [
        "Submit \"bounds.tsv\" in Gradescope."
      ]
    },
    {
      "cell_type": "markdown",
      "metadata": {
        "id": "AfazOSWlwYsP"
      },
      "source": [
        "## Part 6: Make Online Recommendations\n",
        "\n",
        "Implement LinUCB to make 100 recommendations starting with no data and using the same parameters as in part 5.\n",
        "One recommendation should be made at a time and you can break ties arbitrarily.\n",
        "After each recommendation, use the rating from part 1 as the reward to update the LinUCB data.\n",
        "Record the recommendations made in a file \"recommendations.tsv\" with columns \"recipe_slug\", \"score_bound\", and \"reward\".\n",
        "The rows in this file should be in the same order as the recommendations were made."
      ]
    },
    {
      "cell_type": "code",
      "execution_count": 44,
      "metadata": {
        "id": "hQ7r45B7wm4v"
      },
      "outputs": [
        {
          "name": "stdout",
          "output_type": "stream",
          "text": [
            "recommendations.tsv saved\n"
          ]
        }
      ],
      "source": [
        "import pandas as pd, numpy as np\n",
        "F = pd.read_csv(\"features.tsv\", sep=\"\\t\")\n",
        "R = pd.read_csv(\"ratings.tsv\",  sep=\"\\t\").set_index(\"recipe_slug\")[\"rating\"]\n",
        "X = F.drop(columns=[\"recipe_slug\"]).to_numpy(float); slugs = F[\"recipe_slug\"].tolist()\n",
        "lam, alpha = 1.0, 2.0\n",
        "A = lam*np.eye(X.shape[1]); b = np.zeros(X.shape[1]); recs=[]\n",
        "for _ in range(100):\n",
        "    Ainv = np.linalg.inv(A); theta = Ainv@b\n",
        "    ucb = (X@theta) + alpha*np.sqrt(np.einsum(\"ij,jk,ik->i\", X, Ainv, X))\n",
        "    i = int(np.argmax(ucb)); s = slugs[i]; r = float(R.loc[s])\n",
        "    recs.append((s, float(ucb[i]), r))\n",
        "    x = X[i]; A += np.outer(x,x); b += r*x\n",
        "pd.DataFrame(recs, columns=[\"recipe_slug\",\"score_bound\",\"reward\"]).to_csv(\"recommendations.tsv\", sep=\"\\t\", index=False)\n",
        "print(\"recommendations.tsv saved\")\n"
      ]
    },
    {
      "cell_type": "markdown",
      "metadata": {
        "id": "23jv0cD0woSt"
      },
      "source": [
        "Submit \"recommendations.tsv\" in Gradescope."
      ]
    },
    {
      "cell_type": "markdown",
      "metadata": {
        "id": "zi8lV2pbvWMs"
      },
      "source": [
        "## Part 7: Acknowledgments\n",
        "\n",
        "Make a file \"acknowledgments.txt\" documenting any outside sources or help on this project.\n",
        "If you discussed this assignment with anyone, please acknowledge them here.\n",
        "If you used any libraries not mentioned in this module's content, please list them with a brief explanation what you used them for.\n",
        "If you used any generative AI tools, please add links to your transcripts below, and any other information that you feel is necessary to comply with the generative AI policy.\n",
        "If no acknowledgements are appropriate, just write none in the file.\n"
      ]
    },
    {
      "cell_type": "code",
      "execution_count": 45,
      "metadata": {},
      "outputs": [],
      "source": [
        "ack_text = \"\"\"Acknowledgments\n",
        "\n",
        "I used ChatGPT as a study partner to clarify  and check errors, and simplify code while completing this project. \n",
        "\n",
        "\n",
        "For transparency, I am including links to the transcripts of these interactions:\n",
        "\n",
        "1. ChatGPT guidance: [https://chatgpt.com/share/68d20a8d-0870-8007-bb79-080efab54c33]\n",
        "These resources document the support I received and ensure compliance with the class generative AI policy.\n",
        "\"\"\"\n",
        "\n",
        "with open(\"acknowledgments.txt\",\"w\") as f:\n",
        "    f.write(ack_text)\n"
      ]
    },
    {
      "cell_type": "markdown",
      "metadata": {
        "id": "SuNJe62UxCoH"
      },
      "source": [
        "Submit \"acknowledgments.txt\" in Gradescope."
      ]
    },
    {
      "cell_type": "markdown",
      "metadata": {
        "id": "smsTLuFcvR-I"
      },
      "source": [
        "## Part 8: Code\n",
        "\n",
        "Please submit a Jupyter notebook that can reproduce all your calculations and recreate the previously submitted files.\n"
      ]
    },
    {
      "cell_type": "markdown",
      "metadata": {
        "id": "3cgzHyF7wxpr"
      },
      "source": [
        "Submit \"project.ipynb\" in Gradescope."
      ]
    }
  ],
  "metadata": {
    "colab": {
      "toc_visible": false
    },
    "kernelspec": {
      "display_name": "Python 3",
      "name": "python3"
    },
    "language_info": {
      "codemirror_mode": {
        "name": "ipython",
        "version": 3
      },
      "file_extension": ".py",
      "mimetype": "text/x-python",
      "name": "python",
      "nbconvert_exporter": "python",
      "pygments_lexer": "ipython3",
      "version": "3.12.1"
    }
  },
  "nbformat": 4,
  "nbformat_minor": 0
}
