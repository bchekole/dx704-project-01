{
  "cells": [
    {
      "cell_type": "markdown",
      "metadata": {
        "id": "DDELa7o5UXrY"
      },
      "source": [
        "# DX 704 Week 1 Project\n",
        "\n",
        "This week's project will build a portfolio risk and return model, and make investing recommendations for hypothetical clients.\n",
        "You will collect historical data, estimate returns and risks, construct efficient frontier portfolios, and sanity check the certainty of the maximum return portfolio."
      ]
    },
    {
      "cell_type": "markdown",
      "metadata": {
        "id": "P6SxppNu8p8k"
      },
      "source": [
        "The full project description and a template notebook are available on GitHub at the following link.\n",
        "\n",
        "https://github.com/bu-cds-dx704/dx704-project-01\n"
      ]
    },
    {
      "cell_type": "markdown",
      "metadata": {
        "id": "GmIaQcdCwObV"
      },
      "source": [
        "Feel free to use optimization tools or libraries (such as CVXOPT or scipy.optimize) to perform any calculations required for this mini project."
      ]
    },
    {
      "cell_type": "markdown",
      "metadata": {},
      "source": [
        "### Example Code\n",
        "\n",
        "You may find it helpful to refer to these GitHub repositories of Jupyter notebooks for example code.\n",
        "\n",
        "* https://github.com/bu-cds-omds/dx601-examples\n",
        "* https://github.com/bu-cds-omds/dx602-examples\n",
        "* https://github.com/bu-cds-omds/dx603-examples\n",
        "* https://github.com/bu-cds-omds/dx704-examples\n",
        "\n",
        "Any calculations demonstrated in code examples or videos may be found in these notebooks, and you are allowed to copy this example code in your homework answers."
      ]
    },
    {
      "cell_type": "markdown",
      "metadata": {
        "id": "pv3PslO0V5Lm"
      },
      "source": [
        "## Part 1: Collect Data\n",
        "\n",
        "Collect historical monthly price data for the last 24 months covering 6 different stocks.\n",
        "The data should cover 24 consecutive months including the last month that ended before this week's material was released on Blackboard.\n",
        "To be clear, if a month ends between the Blackboard release and submitting your project, you do not need to add that month.\n",
        "\n",
        "The six different stocks must include AAPL, SPY and TSLA.\n",
        "At least one of the remaining 3 tickers must start with the same letter as your last name (e.g. professor Considine could use COIN).\n",
        "This is to encourage diversity in what stocks you analyze; if you discuss this project with classmates, please make sure that you pick different tickers to differentiate your work.\n",
        "Do not pick stocks with fewer than 24 consecutive months of price data."
      ]
    },
    {
      "cell_type": "code",
      "execution_count": 1,
      "metadata": {},
      "outputs": [
        {
          "name": "stdout",
          "output_type": "stream",
          "text": [
            "Collecting yfinance\n",
            "  Downloading yfinance-0.2.65-py2.py3-none-any.whl.metadata (5.8 kB)\n",
            "Collecting cvxpy\n",
            "  Downloading cvxpy-1.7.2-cp312-cp312-manylinux_2_24_x86_64.manylinux_2_28_x86_64.whl.metadata (9.5 kB)\n",
            "Requirement already satisfied: pandas>=1.3.0 in /home/codespace/.local/lib/python3.12/site-packages (from yfinance) (2.3.1)\n",
            "Requirement already satisfied: numpy>=1.16.5 in /home/codespace/.local/lib/python3.12/site-packages (from yfinance) (2.3.1)\n",
            "Requirement already satisfied: requests>=2.31 in /home/codespace/.local/lib/python3.12/site-packages (from yfinance) (2.32.4)\n",
            "Collecting multitasking>=0.0.7 (from yfinance)\n",
            "  Downloading multitasking-0.0.12.tar.gz (19 kB)\n",
            "  Installing build dependencies ... \u001b[?25ldone\n",
            "\u001b[?25h  Getting requirements to build wheel ... \u001b[?25ldone\n",
            "\u001b[?25h  Preparing metadata (pyproject.toml) ... \u001b[?25ldone\n",
            "\u001b[?25hRequirement already satisfied: platformdirs>=2.0.0 in /home/codespace/.local/lib/python3.12/site-packages (from yfinance) (4.3.8)\n",
            "Requirement already satisfied: pytz>=2022.5 in /home/codespace/.local/lib/python3.12/site-packages (from yfinance) (2025.2)\n",
            "Collecting frozendict>=2.3.4 (from yfinance)\n",
            "  Downloading frozendict-2.4.6-py312-none-any.whl.metadata (23 kB)\n",
            "Collecting peewee>=3.16.2 (from yfinance)\n",
            "  Downloading peewee-3.18.2.tar.gz (949 kB)\n",
            "\u001b[2K     \u001b[90m━━━━━━━━━━━━━━━━━━━━━━━━━━━━━━━━━━━━━━\u001b[0m \u001b[32m949.2/949.2 kB\u001b[0m \u001b[31m28.0 MB/s\u001b[0m eta \u001b[36m0:00:00\u001b[0m\n",
            "\u001b[?25h  Installing build dependencies ... \u001b[?25ldone\n",
            "\u001b[?25h  Getting requirements to build wheel ... \u001b[?25ldone\n",
            "\u001b[?25h  Preparing metadata (pyproject.toml) ... \u001b[?25ldone\n",
            "\u001b[?25hRequirement already satisfied: beautifulsoup4>=4.11.1 in /home/codespace/.local/lib/python3.12/site-packages (from yfinance) (4.13.4)\n",
            "Collecting curl_cffi>=0.7 (from yfinance)\n",
            "  Downloading curl_cffi-0.13.0-cp39-abi3-manylinux_2_17_x86_64.manylinux2014_x86_64.whl.metadata (13 kB)\n",
            "Collecting protobuf>=3.19.0 (from yfinance)\n",
            "  Downloading protobuf-6.32.0-cp39-abi3-manylinux2014_x86_64.whl.metadata (593 bytes)\n",
            "Collecting websockets>=13.0 (from yfinance)\n",
            "  Downloading websockets-15.0.1-cp312-cp312-manylinux_2_5_x86_64.manylinux1_x86_64.manylinux_2_17_x86_64.manylinux2014_x86_64.whl.metadata (6.8 kB)\n",
            "Collecting osqp>=0.6.2 (from cvxpy)\n",
            "  Downloading osqp-1.0.4-cp312-cp312-manylinux_2_17_x86_64.manylinux2014_x86_64.whl.metadata (2.1 kB)\n",
            "Collecting clarabel>=0.5.0 (from cvxpy)\n",
            "  Downloading clarabel-0.11.1-cp39-abi3-manylinux_2_17_x86_64.manylinux2014_x86_64.whl.metadata (4.8 kB)\n",
            "Collecting scs>=3.2.4.post1 (from cvxpy)\n",
            "  Downloading scs-3.2.8-cp312-cp312-manylinux_2_27_x86_64.manylinux_2_28_x86_64.whl.metadata (2.8 kB)\n",
            "Requirement already satisfied: scipy>=1.13.0 in /home/codespace/.local/lib/python3.12/site-packages (from cvxpy) (1.16.0)\n",
            "Requirement already satisfied: soupsieve>1.2 in /home/codespace/.local/lib/python3.12/site-packages (from beautifulsoup4>=4.11.1->yfinance) (2.7)\n",
            "Requirement already satisfied: typing-extensions>=4.0.0 in /home/codespace/.local/lib/python3.12/site-packages (from beautifulsoup4>=4.11.1->yfinance) (4.14.1)\n",
            "Requirement already satisfied: cffi in /home/codespace/.local/lib/python3.12/site-packages (from clarabel>=0.5.0->cvxpy) (1.17.1)\n",
            "Requirement already satisfied: certifi>=2024.2.2 in /home/codespace/.local/lib/python3.12/site-packages (from curl_cffi>=0.7->yfinance) (2025.7.9)\n",
            "Requirement already satisfied: pycparser in /home/codespace/.local/lib/python3.12/site-packages (from cffi->clarabel>=0.5.0->cvxpy) (2.22)\n",
            "Requirement already satisfied: jinja2 in /home/codespace/.local/lib/python3.12/site-packages (from osqp>=0.6.2->cvxpy) (3.1.6)\n",
            "Requirement already satisfied: setuptools in /home/codespace/.local/lib/python3.12/site-packages (from osqp>=0.6.2->cvxpy) (80.9.0)\n",
            "Requirement already satisfied: joblib in /home/codespace/.local/lib/python3.12/site-packages (from osqp>=0.6.2->cvxpy) (1.5.1)\n",
            "Requirement already satisfied: python-dateutil>=2.8.2 in /home/codespace/.local/lib/python3.12/site-packages (from pandas>=1.3.0->yfinance) (2.9.0.post0)\n",
            "Requirement already satisfied: tzdata>=2022.7 in /home/codespace/.local/lib/python3.12/site-packages (from pandas>=1.3.0->yfinance) (2025.2)\n",
            "Requirement already satisfied: six>=1.5 in /home/codespace/.local/lib/python3.12/site-packages (from python-dateutil>=2.8.2->pandas>=1.3.0->yfinance) (1.17.0)\n",
            "Requirement already satisfied: charset_normalizer<4,>=2 in /home/codespace/.local/lib/python3.12/site-packages (from requests>=2.31->yfinance) (3.4.2)\n",
            "Requirement already satisfied: idna<4,>=2.5 in /home/codespace/.local/lib/python3.12/site-packages (from requests>=2.31->yfinance) (3.10)\n",
            "Requirement already satisfied: urllib3<3,>=1.21.1 in /home/codespace/.local/lib/python3.12/site-packages (from requests>=2.31->yfinance) (2.5.0)\n",
            "Requirement already satisfied: MarkupSafe>=2.0 in /home/codespace/.local/lib/python3.12/site-packages (from jinja2->osqp>=0.6.2->cvxpy) (3.0.2)\n",
            "Downloading yfinance-0.2.65-py2.py3-none-any.whl (119 kB)\n",
            "Downloading cvxpy-1.7.2-cp312-cp312-manylinux_2_24_x86_64.manylinux_2_28_x86_64.whl (1.2 MB)\n",
            "\u001b[2K   \u001b[90m━━━━━━━━━━━━━━━━━━━━━━━━━━━━━━━━━━━━━━━━\u001b[0m \u001b[32m1.2/1.2 MB\u001b[0m \u001b[31m39.6 MB/s\u001b[0m eta \u001b[36m0:00:00\u001b[0m\n",
            "\u001b[?25hDownloading clarabel-0.11.1-cp39-abi3-manylinux_2_17_x86_64.manylinux2014_x86_64.whl (1.2 MB)\n",
            "\u001b[2K   \u001b[90m━━━━━━━━━━━━━━━━━━━━━━━━━━━━━━━━━━━━━━━━\u001b[0m \u001b[32m1.2/1.2 MB\u001b[0m \u001b[31m38.9 MB/s\u001b[0m eta \u001b[36m0:00:00\u001b[0m\n",
            "\u001b[?25hDownloading curl_cffi-0.13.0-cp39-abi3-manylinux_2_17_x86_64.manylinux2014_x86_64.whl (8.3 MB)\n",
            "\u001b[2K   \u001b[90m━━━━━━━━━━━━━━━━━━━━━━━━━━━━━━━━━━━━━━━━\u001b[0m \u001b[32m8.3/8.3 MB\u001b[0m \u001b[31m46.9 MB/s\u001b[0m eta \u001b[36m0:00:00\u001b[0m\n",
            "\u001b[?25hDownloading frozendict-2.4.6-py312-none-any.whl (16 kB)\n",
            "Downloading osqp-1.0.4-cp312-cp312-manylinux_2_17_x86_64.manylinux2014_x86_64.whl (345 kB)\n",
            "Downloading protobuf-6.32.0-cp39-abi3-manylinux2014_x86_64.whl (322 kB)\n",
            "Downloading scs-3.2.8-cp312-cp312-manylinux_2_27_x86_64.manylinux_2_28_x86_64.whl (12.1 MB)\n",
            "\u001b[2K   \u001b[90m━━━━━━━━━━━━━━━━━━━━━━━━━━━━━━━━━━━━━━━━\u001b[0m \u001b[32m12.1/12.1 MB\u001b[0m \u001b[31m56.4 MB/s\u001b[0m eta \u001b[36m0:00:00\u001b[0m:00:01\u001b[0m\n",
            "\u001b[?25hDownloading websockets-15.0.1-cp312-cp312-manylinux_2_5_x86_64.manylinux1_x86_64.manylinux_2_17_x86_64.manylinux2014_x86_64.whl (182 kB)\n",
            "Building wheels for collected packages: multitasking, peewee\n",
            "  Building wheel for multitasking (pyproject.toml) ... \u001b[?25ldone\n",
            "\u001b[?25h  Created wheel for multitasking: filename=multitasking-0.0.12-py3-none-any.whl size=15636 sha256=122cfa0b379c825cebd1ed048c76eb1bcd5e887866232a72997f540aaaee57cb\n",
            "  Stored in directory: /home/codespace/.cache/pip/wheels/cc/bd/6f/664d62c99327abeef7d86489e6631cbf45b56fbf7ef1d6ef00\n",
            "  Building wheel for peewee (pyproject.toml) ... \u001b[?25ldone\n",
            "\u001b[?25h  Created wheel for peewee: filename=peewee-3.18.2-cp312-cp312-linux_x86_64.whl size=1049307 sha256=da28500c948b2bfefe68ca9d534c444428327160e2ee73a0cb5f480e7086b304\n",
            "  Stored in directory: /home/codespace/.cache/pip/wheels/d1/df/a9/0202b051c65b11c992dd6db9f2babdd2c44ec7d35d511be5d3\n",
            "Successfully built multitasking peewee\n",
            "Installing collected packages: peewee, multitasking, websockets, protobuf, frozendict, scs, osqp, curl_cffi, clarabel, yfinance, cvxpy\n",
            "\u001b[2K   \u001b[90m━━━━━━━━━━━━━━━━━━━━━━━━━━━━━━━━━━━━━━━━\u001b[0m \u001b[32m 0/11\u001b[0m [peewee]\u001b[33m  WARNING: The script websockets is installed in '/usr/local/python/3.12.1/bin' which is not on PATH.\n",
            "  Consider adding this directory to PATH or, if you prefer to suppress this warning, use --no-warn-script-location.\u001b[0m\u001b[33m\n",
            "\u001b[2K   \u001b[91m━━━━━━━━━━━━━━━━━━━━━━━━━━━━━━━━\u001b[0m\u001b[91m╸\u001b[0m\u001b[90m━━━━━━━\u001b[0m \u001b[32m 9/11\u001b[0m [yfinance]]\u001b[33m  WARNING: The script sample is installed in '/usr/local/python/3.12.1/bin' which is not on PATH.\n",
            "  Consider adding this directory to PATH or, if you prefer to suppress this warning, use --no-warn-script-location.\u001b[0m\u001b[33m\n",
            "\u001b[2K   \u001b[90m━━━━━━━━━━━━━━━━━━━━━━━━━━━━━━━━━━━━━━━━\u001b[0m \u001b[32m11/11\u001b[0m [cvxpy]m10/11\u001b[0m [cvxpy]\n",
            "\u001b[1A\u001b[2KSuccessfully installed clarabel-0.11.1 curl_cffi-0.13.0 cvxpy-1.7.2 frozendict-2.4.6 multitasking-0.0.12 osqp-1.0.4 peewee-3.18.2 protobuf-6.32.0 scs-3.2.8 websockets-15.0.1 yfinance-0.2.65\n",
            "\n",
            "\u001b[1m[\u001b[0m\u001b[34;49mnotice\u001b[0m\u001b[1;39;49m]\u001b[0m\u001b[39;49m A new release of pip is available: \u001b[0m\u001b[31;49m25.1.1\u001b[0m\u001b[39;49m -> \u001b[0m\u001b[32;49m25.2\u001b[0m\n",
            "\u001b[1m[\u001b[0m\u001b[34;49mnotice\u001b[0m\u001b[1;39;49m]\u001b[0m\u001b[39;49m To update, run: \u001b[0m\u001b[32;49mpython -m pip install --upgrade pip\u001b[0m\n",
            "Note: you may need to restart the kernel to use updated packages.\n"
          ]
        }
      ],
      "source": [
        "pip install yfinance cvxpy"
      ]
    },
    {
      "cell_type": "code",
      "execution_count": 6,
      "metadata": {
        "id": "6pL-ppubxfvC"
      },
      "outputs": [
        {
          "name": "stderr",
          "output_type": "stream",
          "text": [
            "[*********************100%***********************]  6 of 6 completed\n",
            "/tmp/ipykernel_3000/1586181500.py:12: FutureWarning: 'M' is deprecated and will be removed in a future version, please use 'ME' instead.\n",
            "  month_end = px.resample(\"M\").last()\n"
          ]
        }
      ],
      "source": [
        "# YOUR CHANGES HERE\n",
        "import pandas as pd, yfinance as yf\n",
        "\n",
        "tickers = [\"AAPL\",\"MSFT\",\"AMZN\",\"GOOGL\",\"SPY\",\"TSLA\"]\n",
        "\n",
        "# Daily adjusted close\n",
        "px = yf.download(tickers, period=\"3y\", interval=\"1d\", auto_adjust=False)\n",
        "px = px[\"Adj Close\"] if isinstance(px.columns, pd.MultiIndex) else px\n",
        "px = px.dropna(how=\"all\")\n",
        "\n",
        "# Resample to last trading day of each month\n",
        "month_end = px.resample(\"M\").last()\n",
        "\n",
        "# Cut off at last Friday (replace date string with the Friday you mean, e.g., 2025-08-22)\n",
        "cutoff = \"2025-08-22\"\n",
        "month_end = month_end.loc[:cutoff]"
      ]
    },
    {
      "cell_type": "markdown",
      "metadata": {
        "id": "1uH9oDQ1rEQT"
      },
      "source": [
        "Save the data as a TSV file named \"historical_prices.tsv\" and include a header row with the column names \"date\" and the 6 stock ticker symbols.\n",
        "The date should be the last trading day of the month, so it may not be the last day of the month.\n",
        "For example, the last trading day of November 2024 was 2024-11-29.\n",
        "The remaining columns should contain the adjusted closing prices of the corresponding stock tickers on that day.\n"
      ]
    },
    {
      "cell_type": "code",
      "execution_count": 8,
      "metadata": {
        "id": "mHbwKHOhtQ3E"
      },
      "outputs": [
        {
          "name": "stdout",
          "output_type": "stream",
          "text": [
            "Saved historical_prices.tsv through 2025-08-22\n",
            "['date', 'AAPL', 'MSFT', 'AMZN', 'GOOGL', 'SPY', 'TSLA']\n"
          ]
        }
      ],
      "source": [
        "# YOUR CHANGES HERE\n",
        "\n",
        "month_end.index.name = \"date\"\n",
        "month_end = month_end.reindex(columns=tickers)  # enforce order\n",
        "month_end.to_csv(\"historical_prices.tsv\", sep=\"\\t\",\n",
        "                 float_format=\"%.2f\", date_format=\"%Y-%m-%d\")\n",
        "\n",
        "print(\"Saved historical_prices.tsv through\", cutoff)\n",
        "print([\"date\"] + month_end.columns.tolist())\n"
      ]
    },
    {
      "cell_type": "markdown",
      "metadata": {
        "id": "2hp0yuXPtT9V"
      },
      "source": [
        "Submit \"historical_prices.tsv\" in Gradescope."
      ]
    },
    {
      "cell_type": "markdown",
      "metadata": {
        "id": "7XdNVWWirUd5"
      },
      "source": [
        "## Part 2: Calculate Historical Asset Returns\n",
        "\n",
        "Calculate the historical asset returns based on the price data that you previously collected."
      ]
    },
    {
      "cell_type": "code",
      "execution_count": 10,
      "metadata": {
        "id": "aL-kVua2xex-"
      },
      "outputs": [
        {
          "data": {
            "text/plain": [
              "(AAPL     0.010635\n",
              " MSFT     0.023264\n",
              " AMZN     0.021134\n",
              " GOOGL    0.019760\n",
              " SPY      0.015653\n",
              " TSLA     0.019515\n",
              " dtype: float64,\n",
              " AAPL     0.068217\n",
              " MSFT     0.065174\n",
              " AMZN     0.085074\n",
              " GOOGL    0.079328\n",
              " SPY      0.043355\n",
              " TSLA     0.183441\n",
              " dtype: float64,\n",
              "         AAPL   MSFT   AMZN  GOOGL    SPY   TSLA\n",
              " AAPL   1.000  0.436  0.459  0.375  0.648  0.443\n",
              " MSFT   0.436  1.000  0.596  0.529  0.662  0.232\n",
              " AMZN   0.459  0.596  1.000  0.686  0.600  0.626\n",
              " GOOGL  0.375  0.529  0.686  1.000  0.481  0.384\n",
              " SPY    0.648  0.662  0.600  0.481  1.000  0.360\n",
              " TSLA   0.443  0.232  0.626  0.384  0.360  1.000)"
            ]
          },
          "execution_count": 10,
          "metadata": {},
          "output_type": "execute_result"
        }
      ],
      "source": [
        "# YOUR CHANGES HERE\n",
        "import pandas as pd, numpy as np\n",
        "df = pd.read_csv(\"historical_prices.tsv\", sep=\"\\t\", parse_dates=[\"date\"]).set_index(\"date\")\n",
        "ret = df.pct_change().dropna()\n",
        "ret.tail()\n",
        "\n",
        "mu  = ret.mean()                 # expected monthly return\n",
        "sig = ret.std(ddof=1)            # monthly risk (std dev)\n",
        "Sigma = ret.cov()                # covariance\n",
        "Corr  = ret.corr()               # correlation\n",
        "mu, sig, Corr.round(3)\n"
      ]
    },
    {
      "cell_type": "markdown",
      "metadata": {
        "id": "OjhEYCWOrIu3"
      },
      "source": [
        "Save the data as a TSV file named \"historical_returns.tsv\" and include a header row with the column names \"date\" and the 6 stock ticker symbols.\n",
        "Each row should have the date at the end of the month and the corresponding *relative* price changes.\n",
        "For example, if the previous price was \\$100 and the new price is \\$110, the return value should be 0.10.\n",
        "There should only be 23 rows of data in this file, since they are computed as the differences of 24 prices."
      ]
    },
    {
      "cell_type": "code",
      "execution_count": 11,
      "metadata": {
        "id": "cN-7q9QvvyKG"
      },
      "outputs": [
        {
          "name": "stdout",
          "output_type": "stream",
          "text": [
            "Saved historical_returns.tsv with shape: (23, 6)\n",
            "['date', 'AAPL', 'MSFT', 'AMZN', 'GOOGL', 'SPY', 'TSLA']\n"
          ]
        }
      ],
      "source": [
        "# YOUR CHANGES HERE\n",
        "\n",
        "# Save relative monthly returns to TSV\n",
        "ret = ret.tail(23)   # keep 23 rows (24 prices → 23 returns)\n",
        "ret.index.name = \"date\"\n",
        "ret.to_csv(\"historical_returns.tsv\", sep=\"\\t\",\n",
        "           float_format=\"%.6f\", date_format=\"%Y-%m-%d\")\n",
        "\n",
        "print(\"Saved historical_returns.tsv with shape:\", ret.shape)\n",
        "print([\"date\"] + ret.columns.tolist())"
      ]
    },
    {
      "cell_type": "markdown",
      "metadata": {
        "id": "vyBtnCTUtfRq"
      },
      "source": [
        "Submit \"historical_returns.tsv\" in Gradescope."
      ]
    },
    {
      "cell_type": "markdown",
      "metadata": {
        "id": "MoCkf4ouV9IA"
      },
      "source": [
        "## Part 3: Estimate Returns\n",
        "\n",
        "Estimate the expected returns for each asset using the previously calculated return data.\n",
        "Just compute the average (mean) return for each asset over your data set; do not use other estimators that have been mentioned.\n",
        "This will serve as your estimate of expected return for each asset."
      ]
    },
    {
      "cell_type": "code",
      "execution_count": 12,
      "metadata": {
        "id": "N2iDEhSRxd2n"
      },
      "outputs": [],
      "source": [
        "# YOUR CHANGES HERE\n",
        "\n",
        "estimated_returns = ret.mean().reset_index()\n",
        "estimated_returns.columns = [\"asset\", \"estimated_return\"]"
      ]
    },
    {
      "cell_type": "markdown",
      "metadata": {
        "id": "e5YTEwoarM2M"
      },
      "source": [
        "Save the estimated returns in a TSV file named \"estimated_returns.tsv\" and include a header row with the column names \"asset\" and \"estimated_return\"."
      ]
    },
    {
      "cell_type": "code",
      "execution_count": 13,
      "metadata": {
        "id": "At71YDpwvwUw"
      },
      "outputs": [
        {
          "name": "stdout",
          "output_type": "stream",
          "text": [
            "Saved estimated_returns.tsv\n",
            "   asset  estimated_return\n",
            "0   AAPL          0.006383\n",
            "1   MSFT          0.023842\n",
            "2   AMZN          0.025579\n",
            "3  GOOGL          0.017640\n",
            "4    SPY          0.016712\n",
            "5   TSLA          0.020378\n"
          ]
        }
      ],
      "source": [
        "# YOUR CHANGES HERE\n",
        "\n",
        "# Save to TSV\n",
        "estimated_returns.to_csv(\"estimated_returns.tsv\", sep=\"\\t\",\n",
        "                         float_format=\"%.6f\", index=False)\n",
        "\n",
        "print(\"Saved estimated_returns.tsv\")\n",
        "print(estimated_returns)"
      ]
    },
    {
      "cell_type": "markdown",
      "metadata": {
        "id": "cjfnF-2Wtj6r"
      },
      "source": [
        "Submit \"estimated_returns.tsv\" in Gradescope."
      ]
    },
    {
      "cell_type": "markdown",
      "metadata": {
        "id": "VTuIqrkAWXVL"
      },
      "source": [
        "## Part 4: Estimate Risk\n",
        "\n",
        "Estimate the covariance matrix for the asset returns to understand how the assets move together."
      ]
    },
    {
      "cell_type": "code",
      "execution_count": 14,
      "metadata": {
        "id": "RFZfIkTMxcv7"
      },
      "outputs": [],
      "source": [
        "# YOUR CHANGES HERE\n",
        "\n",
        "cov_matrix = ret.cov()"
      ]
    },
    {
      "cell_type": "markdown",
      "metadata": {
        "id": "sOmn4s_yr5qn"
      },
      "source": [
        "Save the estimated covariances to a TSV file named \"estimated_covariance.tsv\".\n",
        "The header row should have a blank column name followed by the names of the assets.\n",
        "Each data row should start with the name of an asset for that row, and be followed by the individual covariances corresponding to that row and column's assets.\n",
        "(This is the format of pandas's `to_csv` method with `sep=\"\\t\"` when used on a covariance matrix as computed in the examples.)"
      ]
    },
    {
      "cell_type": "code",
      "execution_count": 15,
      "metadata": {
        "id": "Te-NPQxSvuXm"
      },
      "outputs": [
        {
          "name": "stdout",
          "output_type": "stream",
          "text": [
            "Saved estimated_covariance.tsv\n",
            "           AAPL      MSFT      AMZN     GOOGL       SPY      TSLA\n",
            "AAPL   0.003540  0.001019  0.001168  0.000595  0.001118  0.003199\n",
            "MSFT   0.001019  0.003971  0.003005  0.001617  0.001675  0.002561\n",
            "AMZN   0.001168  0.003005  0.004913  0.002852  0.001986  0.005961\n",
            "GOOGL  0.000595  0.001617  0.002852  0.004793  0.000968  0.004414\n",
            "SPY    0.001118  0.001675  0.001986  0.000968  0.001488  0.002574\n",
            "TSLA   0.003199  0.002561  0.005961  0.004414  0.002574  0.026668\n"
          ]
        }
      ],
      "source": [
        "# YOUR CHANGES HERE\n",
        "\n",
        "cov_matrix.to_csv(\"estimated_covariance.tsv\", sep=\"\\t\", float_format=\"%.6f\")\n",
        "\n",
        "print(\"Saved estimated_covariance.tsv\")\n",
        "print(cov_matrix.round(6))"
      ]
    },
    {
      "cell_type": "markdown",
      "metadata": {
        "id": "lS9vek0btoK6"
      },
      "source": [
        "Submit \"estimated_covariance.tsv\" in Gradescope."
      ]
    },
    {
      "cell_type": "markdown",
      "metadata": {
        "id": "C8rC5Eo3sEme"
      },
      "source": [
        "## Part 5: Construct the Maximum Return Portfolio\n",
        "\n",
        "Compute the maximum return portfolio based on your previously estimated risks and returns."
      ]
    },
    {
      "cell_type": "code",
      "execution_count": 16,
      "metadata": {
        "id": "8LW0KKm-xb2I"
      },
      "outputs": [],
      "source": [
        "# YOUR CHANGES HERE\n",
        "\n",
        "import pandas as pd\n",
        "\n",
        "mu = ret.mean()                     \n",
        "best = mu.idxmax()\n",
        "w = pd.Series(0.0, index=mu.index)\n",
        "w[best] = 1.0 "
      ]
    },
    {
      "cell_type": "markdown",
      "metadata": {
        "id": "jjPOxui5sLTD"
      },
      "source": [
        "Save the maximum return portfolio in a TSV file named \"maximum_return.tsv\".\n",
        "The header row should have two columns, \"asset\" and \"allocation\".\n",
        "The allocation values should sum up to one.\n"
      ]
    },
    {
      "cell_type": "code",
      "execution_count": 17,
      "metadata": {
        "id": "xLl_j8z1vtiT"
      },
      "outputs": [
        {
          "name": "stdout",
          "output_type": "stream",
          "text": [
            "   asset  allocation\n",
            "0   AAPL         0.0\n",
            "1   MSFT         0.0\n",
            "2   AMZN         1.0\n",
            "3  GOOGL         0.0\n",
            "4    SPY         0.0\n",
            "5   TSLA         0.0\n",
            "Sum of allocations: 1.0\n"
          ]
        }
      ],
      "source": [
        "# YOUR CHANGES HERE\n",
        "\n",
        "max_port = w.rename(\"allocation\").reset_index().rename(columns={\"index\":\"asset\"})\n",
        "max_port.to_csv(\"maximum_return.tsv\", sep=\"\\t\", index=False, float_format=\"%.6f\")\n",
        "\n",
        "print(max_port)\n",
        "print(\"Sum of allocations:\", w.sum())"
      ]
    },
    {
      "cell_type": "markdown",
      "metadata": {
        "id": "4bm3xrxptqJ2"
      },
      "source": [
        "Submit \"maximum_return.tsv\" in Gradescope."
      ]
    },
    {
      "cell_type": "markdown",
      "metadata": {
        "id": "r_QxQ5NpsL-c"
      },
      "source": [
        "## Part 6: Construct the Minimum Risk Portfolio\n",
        "\n",
        "Compute the minimum return portfolio based on your previously estimated risks and returns."
      ]
    },
    {
      "cell_type": "code",
      "execution_count": 18,
      "metadata": {
        "id": "daHSqhv9xbIF"
      },
      "outputs": [
        {
          "data": {
            "text/plain": [
              "np.float64(0.0013765261248789352)"
            ]
          },
          "execution_count": 18,
          "metadata": {},
          "output_type": "execute_result"
        }
      ],
      "source": [
        "# YOUR CHANGES HERE\n",
        "\n",
        "import cvxpy as cp, numpy as np, pandas as pd\n",
        "Sigma, tickers = ret.cov().values, ret.columns\n",
        "w = cp.Variable(len(tickers), nonneg=True)\n",
        "cp.Problem(cp.Minimize(cp.quad_form(w, Sigma)), [cp.sum(w)==1]).solve()\n"
      ]
    },
    {
      "cell_type": "markdown",
      "metadata": {
        "id": "wzldkIPxsQor"
      },
      "source": [
        "Save the minimum risk portfolio in a TSV file named \"minimum_risk.tsv\".\n",
        "The header row should have two columns, \"asset\" and \"allocation\".\n",
        "The allocation values should sum up to one.\n"
      ]
    },
    {
      "cell_type": "code",
      "execution_count": 19,
      "metadata": {
        "id": "YRXccAflvrBZ"
      },
      "outputs": [],
      "source": [
        "# YOUR CHANGES HERE\n",
        "\n",
        "pd.DataFrame({\"asset\":tickers, \"allocation\":w.value}).to_csv(\"minimum_risk.tsv\", sep=\"\\t\", index=False, float_format=\"%.6f\")"
      ]
    },
    {
      "cell_type": "markdown",
      "metadata": {
        "id": "P5gy_XETtsoi"
      },
      "source": [
        "Submit \"minimum_risk.tsv\" in Gradescope."
      ]
    },
    {
      "cell_type": "markdown",
      "metadata": {
        "id": "mzyJGWDvWhva"
      },
      "source": [
        "## Part 7: Build Efficient Frontier Portfolios\n",
        "\n",
        "Compute 101 portfolios along the mean-variance efficient frontier with evenly spaced estimated returns.\n",
        "The first portfolio should be the minimum risk portfolio from part 4, and the last portfolio should be the maximum return portfolio from part 3.\n",
        "The estimated return of each portfolio should be higher than the previous by one percent of the difference between the first and last portfolios.\n",
        "That is, the estimated return of the portfolios should be similar to `np.linspace(min_risk_return, max_return, 101)`.\n"
      ]
    },
    {
      "cell_type": "code",
      "execution_count": 21,
      "metadata": {
        "id": "XaR6mKwvxZ4W"
      },
      "outputs": [],
      "source": [
        "# YOUR CHANGES HERE\n",
        "\n",
        "import numpy as np, pandas as pd, cvxpy as cp\n",
        "mu, Sigma, tick = ret.mean().values, ret.cov().values, ret.columns\n",
        "n = len(tick)\n",
        "\n",
        "# min risk return\n",
        "w = cp.Variable(n, nonneg=True)\n",
        "cp.Problem(cp.Minimize(cp.quad_form(w,Sigma)), [cp.sum(w)==1]).solve()\n",
        "rmin = mu @ w.value\n",
        "\n",
        "# max return\n",
        "rmax = mu.max()\n",
        "\n",
        "# efficient frontier portfolios\n",
        "rows=[]\n",
        "for i,t in enumerate(np.linspace(rmin,rmax,101)):\n",
        "    w = cp.Variable(n, nonneg=True)\n",
        "    cp.Problem(cp.Minimize(cp.quad_form(w,Sigma)), [cp.sum(w)==1, mu@w>=t]).solve()\n",
        "    wv = w.value/ w.value.sum()\n",
        "    rows.append([i, mu@wv, np.sqrt(wv@Sigma@wv), *wv])\n"
      ]
    },
    {
      "cell_type": "markdown",
      "metadata": {
        "id": "8e3WwTJvsDzh"
      },
      "source": [
        "Save the portfolios in a TSV file named \"efficient_frontier.tsv\".\n",
        "The header row should have columns \"index\", \"return\", \"risk\", and all the asset tickers.\n",
        "Each data row should have the portfolio index (0-100), the estimated return of the portfolio, the estimated standard deviation (not variance) of the portfolio, and all the asset allocations (which should sum to one)."
      ]
    },
    {
      "cell_type": "code",
      "execution_count": 22,
      "metadata": {
        "id": "e9DKadyNvniT"
      },
      "outputs": [],
      "source": [
        "# YOUR CHANGES HERE\n",
        "\n",
        "pd.DataFrame(rows, columns=[\"index\",\"return\",\"risk\",*tick]).to_csv(\n",
        "    \"efficient_frontier.tsv\", sep=\"\\t\", index=False, float_format=\"%.6f\")"
      ]
    },
    {
      "cell_type": "markdown",
      "metadata": {
        "id": "jiOa06rItvbs"
      },
      "source": [
        "Submit \"efficient_frontier.tsv\" in Gradescope."
      ]
    },
    {
      "cell_type": "markdown",
      "metadata": {
        "id": "LoW0XBXAzzR6"
      },
      "source": [
        "## Part 8: Check Maximum Return Portfolio Stability\n",
        "\n",
        "Check the stability of the maximum return portfolio by resampling the estimated risk/return model.\n",
        "\n",
        "Repeat 1000 times -\n",
        "1. Use `np.random.multivariate_normal` to generate 23 return samples using your previously estimated risks and returns.\n",
        "2. Estimate the return of each asset using that resampled return history.\n",
        "3. Check which asset had the highest return in those resampled estimates.\n",
        "\n",
        "This procedure is a reduced and simplified version of the Michaud resampled efficient frontier procedure that takes uncertainty in the risk model into account."
      ]
    },
    {
      "cell_type": "code",
      "execution_count": 35,
      "metadata": {
        "id": "Xfke5V57xYvT"
      },
      "outputs": [],
      "source": [
        "# YOUR CHANGES HERE\n",
        "\n",
        "import numpy as np, pandas as pd\n",
        "\n",
        "mu, Sigma, tick = ret.mean().values, ret.cov().values, ret.columns\n",
        "n, T, B = len(tick), 23, 1000\n",
        "Sigma = Sigma + 1e-12*np.eye(n)  \n",
        "\n",
        "rng = np.random.default_rng(42)\n",
        "wins = np.zeros(n, dtype=int)\n",
        "\n",
        "for _ in range(B):\n",
        "    samp = rng.multivariate_normal(mu, Sigma, size=T)  \n",
        "    mu_b = samp.mean(axis=0)                            \n",
        "    wins[np.argmax(mu_b)] += 1\n",
        "\n",
        "probs = wins / B"
      ]
    },
    {
      "cell_type": "markdown",
      "metadata": {
        "id": "fes_ScDyz0jp"
      },
      "source": [
        "Save a file \"max_return_probabilities.tsv\" with the distribution of highest return assets.\n",
        "The header row should have columns \"asset\" and \"probability\".\n",
        "There should be a data row for each asset and its sample probability of having the highest return based on those 1000 resampled estimates.\n"
      ]
    },
    {
      "cell_type": "code",
      "execution_count": 36,
      "metadata": {
        "id": "ZAjr15ASvj1S"
      },
      "outputs": [
        {
          "data": {
            "text/html": [
              "<div>\n",
              "<style scoped>\n",
              "    .dataframe tbody tr th:only-of-type {\n",
              "        vertical-align: middle;\n",
              "    }\n",
              "\n",
              "    .dataframe tbody tr th {\n",
              "        vertical-align: top;\n",
              "    }\n",
              "\n",
              "    .dataframe thead th {\n",
              "        text-align: right;\n",
              "    }\n",
              "</style>\n",
              "<table border=\"1\" class=\"dataframe\">\n",
              "  <thead>\n",
              "    <tr style=\"text-align: right;\">\n",
              "      <th></th>\n",
              "      <th>asset</th>\n",
              "      <th>probability</th>\n",
              "    </tr>\n",
              "  </thead>\n",
              "  <tbody>\n",
              "    <tr>\n",
              "      <th>0</th>\n",
              "      <td>AAPL</td>\n",
              "      <td>0.035</td>\n",
              "    </tr>\n",
              "    <tr>\n",
              "      <th>1</th>\n",
              "      <td>MSFT</td>\n",
              "      <td>0.218</td>\n",
              "    </tr>\n",
              "    <tr>\n",
              "      <th>2</th>\n",
              "      <td>AMZN</td>\n",
              "      <td>0.223</td>\n",
              "    </tr>\n",
              "    <tr>\n",
              "      <th>3</th>\n",
              "      <td>GOOGL</td>\n",
              "      <td>0.119</td>\n",
              "    </tr>\n",
              "    <tr>\n",
              "      <th>4</th>\n",
              "      <td>SPY</td>\n",
              "      <td>0.031</td>\n",
              "    </tr>\n",
              "    <tr>\n",
              "      <th>5</th>\n",
              "      <td>TSLA</td>\n",
              "      <td>0.374</td>\n",
              "    </tr>\n",
              "  </tbody>\n",
              "</table>\n",
              "</div>"
            ],
            "text/plain": [
              "   asset  probability\n",
              "0   AAPL        0.035\n",
              "1   MSFT        0.218\n",
              "2   AMZN        0.223\n",
              "3  GOOGL        0.119\n",
              "4    SPY        0.031\n",
              "5   TSLA        0.374"
            ]
          },
          "execution_count": 36,
          "metadata": {},
          "output_type": "execute_result"
        }
      ],
      "source": [
        "# YOUR CHANGES HERE\n",
        "\n",
        "out = pd.DataFrame({\"asset\": tick, \"probability\": probs})\n",
        "out.to_csv(\"max_return_probabilities.tsv\", sep=\"\\t\", index=False, float_format=\"%.6f\")\n",
        "out"
      ]
    },
    {
      "cell_type": "markdown",
      "metadata": {
        "id": "2Xd34FQ6txoj"
      },
      "source": [
        "Submit \"max_return_probabilities.tsv\" in Gradescope."
      ]
    },
    {
      "cell_type": "markdown",
      "metadata": {
        "id": "SYbJ21qUYvL_"
      },
      "source": [
        "## Part 9: Acknowledgments\n",
        "\n",
        "Make a file \"acknowledgments.txt\" documenting any outside sources or help on this project.\n",
        "If you discussed this assignment with anyone, please acknowledge them here.\n",
        "If you used any libraries not mentioned in this module's content, please list them with a brief explanation what you used them for.\n",
        "If you used any generative AI tools, please add links to your transcripts below, and any other information that you feel is necessary to comply with the generative AI policy.\n",
        "If no acknowledgements are appropriate, just write none in the file.\n"
      ]
    },
    {
      "cell_type": "code",
      "execution_count": 34,
      "metadata": {},
      "outputs": [
        {
          "name": "stdout",
          "output_type": "stream",
          "text": [
            "Saved acknowledgments.txt\n"
          ]
        }
      ],
      "source": [
        "with open(\"acknowledgments.txt\",\"w\") as f:\n",
        "    f.write(conversation)\n",
        "\n",
        "print(\"Saved acknowledgments.txt\")\n"
      ]
    },
    {
      "cell_type": "markdown",
      "metadata": {},
      "source": [
        "https://www.youtube.com/watch?v=tjv9yYpvYc8\n",
        "https://chatgpt.com/share/68b211ab-0e80-8007-8a77-505c3a145044\n"
      ]
    },
    {
      "cell_type": "code",
      "execution_count": 37,
      "metadata": {},
      "outputs": [
        {
          "name": "stdout",
          "output_type": "stream",
          "text": [
            "Saved acknowledgments.txt\n"
          ]
        }
      ],
      "source": [
        "ack_text = \"\"\"Acknowledgments\n",
        "\n",
        "I used ChatGPT as a study partner to clarify concepts, check errors, and simplify code while completing this project. \n",
        "Conversations focused on understanding portfolio construction, covariance matrices, maximum return/minimum risk portfolios, \n",
        "efficient frontiers, and stability checks. The tool acted as a tutor/debugging assistant, not as a replacement for my work.\n",
        "\n",
        "For transparency, I am including links to the transcripts of these interactions:\n",
        "\n",
        "1. ChatGPT guidance: [https://chatgpt.com/share/68b211ab-0e80-8007-8a77-505c3a145044]\n",
        "2. Youtube: [https://www.youtube.com/watch?v=tjv9yYpvYc8]\n",
        "\n",
        "These resources document the support I received and ensure compliance with the class generative AI policy.\n",
        "\"\"\"\n",
        "\n",
        "with open(\"acknowledgments.txt\",\"w\") as f:\n",
        "    f.write(ack_text)\n",
        "\n",
        "print(\"Saved acknowledgments.txt\")"
      ]
    },
    {
      "cell_type": "markdown",
      "metadata": {
        "id": "H3oWYYHlt42V"
      },
      "source": [
        "Submit \"acknowledgements.txt\" in Gradescope."
      ]
    },
    {
      "cell_type": "markdown",
      "metadata": {
        "id": "b8FWiTjvwscA"
      },
      "source": [
        "## Part 10: Code\n",
        "\n",
        "Please submit a Jupyter notebook that can reproduce all your calculations and recreate the previously submitted files.\n",
        "You do not need to provide code for data collection if you did that by manually."
      ]
    },
    {
      "cell_type": "markdown",
      "metadata": {
        "id": "HDEYI-K8vcUW"
      },
      "source": [
        "Submit \"project.ipynb\" in Gradescope."
      ]
    }
  ],
  "metadata": {
    "colab": {
      "toc_visible": false
    },
    "kernelspec": {
      "display_name": "Python 3",
      "language": "python",
      "name": "python3"
    },
    "language_info": {
      "codemirror_mode": {
        "name": "ipython",
        "version": 3
      },
      "file_extension": ".py",
      "mimetype": "text/x-python",
      "name": "python",
      "nbconvert_exporter": "python",
      "pygments_lexer": "ipython3",
      "version": "3.12.1"
    }
  },
  "nbformat": 4,
  "nbformat_minor": 0
}
