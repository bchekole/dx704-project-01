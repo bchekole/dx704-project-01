{
  "cells": [
    {
      "cell_type": "markdown",
      "metadata": {
        "id": "7aZ_blKrRZ3H"
      },
      "source": [
        "# DX 704 Week 2 Project\n",
        "\n",
        "This week's project will analyze fresh strawberry price data for a hypothetical \"buy low, freeze, and sell high\" business.\n",
        "Strawberries show strong seasonality in their prices compared to other fruits.\n",
        "\n",
        "![](https://ers.usda.gov/sites/default/files/_laserfiche/Charts/61401/oct14_finding_plattner_fig01.png)\n",
        "\n",
        "Image source: https://www.ers.usda.gov/amber-waves/2014/october/seasonal-fresh-fruit-price-patterns-differ-across-commodities-the-case-of-strawberries-and-apples\n",
        "\n",
        "You are considering a business where you buy strawberries when the prices are very low, carefully freeze them, even more carefully defrost them, and then sell them when the prices are high.\n",
        "You will forecast strawberry price time series and then use them to tactically pick times to buy, freeze, and sell the strawberries."
      ]
    },
    {
      "cell_type": "markdown",
      "metadata": {
        "id": "g1rddBd6_teG"
      },
      "source": [
        "The full project description, a template notebook, and raw data are available on GitHub at the following link.\n",
        "\n",
        "https://github.com/bu-cds-dx704/dx704-project-02\n"
      ]
    },
    {
      "cell_type": "markdown",
      "metadata": {},
      "source": [
        "### Example Code\n",
        "\n",
        "You may find it helpful to refer to these GitHub repositories of Jupyter notebooks for example code.\n",
        "\n",
        "* https://github.com/bu-cds-omds/dx601-examples\n",
        "* https://github.com/bu-cds-omds/dx602-examples\n",
        "* https://github.com/bu-cds-omds/dx603-examples\n",
        "* https://github.com/bu-cds-omds/dx704-examples\n",
        "\n",
        "Any calculations demonstrated in code examples or videos may be found in these notebooks, and you are allowed to copy this example code in your homework answers."
      ]
    },
    {
      "cell_type": "markdown",
      "metadata": {
        "id": "B7jHqNiZBXzD"
      },
      "source": [
        "## Part 1: Backtest Strawberry Prices\n",
        "\n",
        "Read the provided \"strawberry-prices.tsv\" with data from 2000 through 2024.\n",
        "This data is based on data from the U.S. Bureau of Statistics, but transformed so the ground truth is not online.\n",
        "https://fred.stlouisfed.org/series/APU0000711415\n",
        "\n",
        "Use the data for 2000 through 2023 to predict monthly prices in 2024.\n",
        "Spend some time to make sure you are happy with your methodology and prediction accuracy, since you will reuse the methodology to forecast 2025 next.\n",
        "Save the 2024 backtest predictions as \"strawberry-backtest.tsv\" with columns month and price.\n"
      ]
    },
    {
      "cell_type": "code",
      "execution_count": 1,
      "metadata": {
        "id": "T8OLCmHbiaoK"
      },
      "outputs": [],
      "source": [
        "\n",
        "import pandas as pd\n",
        "from pathlib import Path\n",
        "\n",
        "# 1) Load\n",
        "df = pd.read_csv(\"strawberry-prices.tsv\", sep=\"\\t\").rename(\n",
        "    columns=lambda c: c.lower()\n",
        ")\n",
        "df[\"month\"] = pd.to_datetime(df[\"month\"])\n",
        "df = df.sort_values(\"month\").reset_index(drop=True)\n",
        "\n",
        "# 2) Split\n",
        "train = df[df[\"month\"].dt.year <= 2023].copy()\n",
        "ref2023 = train[train[\"month\"].dt.year == 2023].copy()\n",
        "ref2023[\"m\"] = ref2023[\"month\"].dt.month\n",
        "\n",
        "# 3) Fallback seasonal means\n",
        "seasonal_mean = (\n",
        "    train.assign(m=train[\"month\"].dt.month)\n",
        "         .groupby(\"m\")[\"price\"].mean()\n",
        ")\n",
        "\n",
        "# 4) Building 2024 predictions by same-month-as-2023 (fallback to monthly mean)\n",
        "months_2024 = pd.date_range(\"2024-01-01\", \"2024-12-01\", freq=\"MS\")\n",
        "pred_rows = []\n",
        "for dt in months_2024:\n",
        "    m = dt.month\n",
        "    last = ref2023.loc[ref2023[\"m\"] == m, \"price\"]\n",
        "    yhat = float(last.iloc[0]) if not last.empty else float(seasonal_mean.loc[m])\n",
        "    pred_rows.append({\"month\": dt.strftime(\"%Y-%m\"), \"price\": yhat})\n",
        "\n",
        "backtest = pd.DataFrame(pred_rows, columns=[\"month\", \"price\"])\n",
        "\n",
        "# 5) Saving as TSV\n",
        "out_path = Path(\"strawberry-backtest.tsv\")\n",
        "backtest.to_csv(out_path, sep=\"\\t\", index=False)"
      ]
    },
    {
      "cell_type": "markdown",
      "metadata": {
        "id": "vzTi6z-skMoz"
      },
      "source": [
        "Submit \"strawberry-backtest.tsv\" in Gradescope."
      ]
    },
    {
      "cell_type": "markdown",
      "metadata": {
        "id": "T3D1ItqDnt9c"
      },
      "source": [
        "## Part 2: Backtest Errors\n",
        "\n",
        "What are the mean and standard deviation of the residuals between your backtest predictions and the ground truth? (If your mean is not close to zero, then you may be missing a long term trend.)\n",
        "\n",
        "Write the mean and standard deviation to a file \"backtest-accuracy.tsv\" with two columns, mean and std."
      ]
    },
    {
      "cell_type": "code",
      "execution_count": 4,
      "metadata": {
        "id": "3wxh46v8tnv8"
      },
      "outputs": [],
      "source": [
        "import pandas as pd\n",
        "\n",
        "truth = (\n",
        "    pd.read_csv(\"strawberry-prices.tsv\", sep=\"\\t\")\n",
        "      .rename(columns=str.lower)\n",
        ")\n",
        "truth[\"month\"] = pd.to_datetime(truth[\"month\"])\n",
        "truth_2024 = truth[truth[\"month\"].dt.year == 2024].copy()\n",
        "truth_2024[\"month\"] = truth_2024[\"month\"].dt.strftime(\"%Y-%m\")\n",
        "\n",
        "pred = pd.read_csv(\"strawberry-backtest.tsv\", sep=\"\\t\")\n",
        "\n",
        "df = truth_2024.merge(pred, on=\"month\", suffixes=(\"_true\",\"_pred\"))\n",
        "df[\"residual\"] = df[\"price_true\"] - df[\"price_pred\"]  # actual - predicted\n",
        "\n",
        "mean_res = df[\"residual\"].mean()\n",
        "std_res  = df[\"residual\"].std(ddof=1)\n",
        "\n",
        "out = pd.DataFrame({\"mean\":[mean_res], \"std\":[std_res]})\n",
        "out.to_csv(\"backtest-accuracy.tsv\", sep=\"\\t\", index=False)\n",
        "\n",
        "df[\"price_pred_adj\"] = df[\"price_pred\"] + mean_res"
      ]
    },
    {
      "cell_type": "markdown",
      "metadata": {
        "id": "Cq2d378QtnG9"
      },
      "source": [
        "Submit \"backtest-accuracy.tsv\" in Gradescope."
      ]
    },
    {
      "cell_type": "markdown",
      "metadata": {
        "id": "Pa4DWVrpj5mq"
      },
      "source": [
        "## Part 3: Forecast Strawberry Prices\n",
        "\n",
        "Use all the data from 2000 through 2024 to predict monthly prices in 2025 using the same methodology from part 1.\n",
        "Make a monthly forecast for each month of 2025 and save it as \"strawberry-forecast.tsv\" with columns for month and price."
      ]
    },
    {
      "cell_type": "code",
      "execution_count": 5,
      "metadata": {
        "id": "CiKoW3BrkJiS"
      },
      "outputs": [],
      "source": [
        "import pandas as pd\n",
        "\n",
        "# 1) Loading and preping\n",
        "df = pd.read_csv(\"strawberry-prices.tsv\", sep=\"\\t\").rename(columns=str.lower)\n",
        "df[\"month\"] = pd.to_datetime(df[\"month\"])\n",
        "df = df.sort_values(\"month\").reset_index(drop=True)\n",
        "\n",
        "# 2) Grabing 2024 as the seasonal reference\n",
        "ref = df[df[\"month\"].dt.year == 2024].copy()\n",
        "ref[\"m\"] = ref[\"month\"].dt.month\n",
        "\n",
        "# 3) Fallback: monthly mean over 2000–2024 in case any 2024 month is missing\n",
        "seasonal_mean = (\n",
        "    df[df[\"month\"].dt.year <= 2024]\n",
        "      .assign(m=lambda d: d[\"month\"].dt.month)\n",
        "      .groupby(\"m\")[\"price\"].mean()\n",
        ")\n",
        "\n",
        "# 4) Building 2025 forecast\n",
        "months_2025 = pd.date_range(\"2025-01-01\", \"2025-12-01\", freq=\"MS\")\n",
        "rows = []\n",
        "for dt in months_2025:\n",
        "    m = dt.month\n",
        "    same_month_2024 = ref.loc[ref[\"m\"] == m, \"price\"]\n",
        "    yhat = float(same_month_2024.iloc[0]) if not same_month_2024.empty else float(seasonal_mean.loc[m])\n",
        "    rows.append({\"month\": dt.strftime(\"%Y-%m\"), \"price\": yhat})\n",
        "\n",
        "forecast = pd.DataFrame(rows, columns=[\"month\", \"price\"])\n",
        "\n",
        "# 5) Save\n",
        "forecast.to_csv(\"strawberry-forecast.tsv\", sep=\"\\t\", index=False)"
      ]
    },
    {
      "cell_type": "markdown",
      "metadata": {
        "id": "32lM_MPdico0"
      },
      "source": [
        "Submit \"strawberry-forecast.tsv\" in Gradescope."
      ]
    },
    {
      "cell_type": "markdown",
      "metadata": {
        "id": "SzCWxxaLi8MH"
      },
      "source": [
        "## Part 4: Buy Low, Freeze and Sell High\n",
        "\n",
        "Using your 2025 forecast, analyze the profit picking different pairs of months to buy and sell strawberries.\n",
        "Maximize your profit assuming that it costs &dollar;0.20 per pint to freeze the strawberries, &dollar;0.10 per pint per month to store the frozen strawberries and there is a 10% price discount from selling previously frozen strawberries.\n",
        "So, if you buy a pint of strawberies for &dollar;1, freeze them, and sell them for &dollar;2 three months after buying them, then the profit is &dollar;2 * 0.9 - &dollar;1 - &dollar;0.20 - &dollar;0.10 * 3 = &dollar;0.30 per pint.\n",
        "To evaluate a given pair of months, assume that you can invest &dollar;1,000,000 to cover all costs, and that you buy as many pints of strawberries as possible.\n",
        "\n",
        "Write the results of your analysis to a file \"timings.tsv\" with columns for the buy_month, sell_month, pints_purchased, and expected_profit."
      ]
    },
    {
      "cell_type": "code",
      "execution_count": 6,
      "metadata": {
        "id": "pGWQQvy6nkCk"
      },
      "outputs": [],
      "source": [
        "# parameters\n",
        "BUDGET = 1_000_000\n",
        "FREEZE = 0.20\n",
        "STORAGE = 0.10\n",
        "DISCOUNT = 0.10  # the 10% off sell price\n",
        "\n",
        "# loading 2025 forecast\n",
        "F = pd.read_csv(\"strawberry-forecast.tsv\", sep=\"\\t\")\n",
        "F[\"month\"] = pd.to_datetime(F[\"month\"])\n",
        "prices = F.set_index(F[\"month\"].dt.month)[\"price\"].to_dict()\n",
        "\n",
        "rows = []\n",
        "for buy_m in range(1, 13):\n",
        "    for sell_m in range(buy_m + 1, 13):\n",
        "        months_held = sell_m - buy_m\n",
        "        buy_price = prices[buy_m]\n",
        "        sell_price = prices[sell_m]\n",
        "\n",
        "        per_pint_cost = buy_price + FREEZE + STORAGE * months_held\n",
        "        per_pint_profit = (sell_price * (1 - DISCOUNT)) - per_pint_cost\n",
        "\n",
        "        pints = int(BUDGET // per_pint_cost) if per_pint_cost > 0 else 0\n",
        "        total_profit = per_pint_profit * pints\n",
        "\n",
        "        rows.append({\n",
        "            \"buy_month\": f\"2025-{buy_m:02d}\",\n",
        "            \"sell_month\": f\"2025-{sell_m:02d}\",\n",
        "            \"pints_purchased\": pints,\n",
        "            \"expected_profit\": total_profit\n",
        "        })\n",
        "\n",
        "timings = pd.DataFrame(rows).sort_values(\"expected_profit\", ascending=False)\n",
        "timings.to_csv(\"timings.tsv\", sep=\"\\t\", index=False)"
      ]
    },
    {
      "cell_type": "markdown",
      "metadata": {
        "id": "XAWzFd54nlxI"
      },
      "source": [
        "Submit \"timings.tsv\" in Gradescope."
      ]
    },
    {
      "cell_type": "markdown",
      "metadata": {
        "id": "LdrZE8qKCDUv"
      },
      "source": [
        "## Part 5: Strategy Check\n",
        "\n",
        "What is the best profit scenario according to your previous timing analysis?\n",
        "How much does that profit change if the sell price is off by one standard deviation from your backtest analysis?\n",
        "(Variation in the sell price is more dangerous because you can see the buy price before fully committing.)\n",
        "\n",
        "Write the results to a file \"check.tsv\" with columns best_profit and one_std_profit."
      ]
    },
    {
      "cell_type": "code",
      "execution_count": 7,
      "metadata": {
        "id": "7HvYBo_wt8Rv"
      },
      "outputs": [],
      "source": [
        "# best profit vs. sell-price minus 1 std\n",
        "\n",
        "# parameters\n",
        "BUDGET = 1_000_000\n",
        "FREEZE = 0.20\n",
        "STORAGE = 0.10\n",
        "DISCOUNT = 0.10  # the 10% off sell price\n",
        "\n",
        "# 1) Loading inputs\n",
        "timings = pd.read_csv(\"timings.tsv\", sep=\"\\t\")\n",
        "forecast = pd.read_csv(\"strawberry-forecast.tsv\", sep=\"\\t\")\n",
        "acc = pd.read_csv(\"backtest-accuracy.tsv\", sep=\"\\t\")\n",
        "sell_std = float(acc.loc[0, \"std\"])\n",
        "\n",
        "# 2) Pick best scenario from timings\n",
        "best = timings.loc[timings[\"expected_profit\"].idxmax()].to_dict()\n",
        "buy_m  = int(str(best[\"buy_month\"]).split(\"-\")[1])\n",
        "sell_m = int(str(best[\"sell_month\"]).split(\"-\")[1])\n",
        "\n",
        "# 3) Get prices for those months\n",
        "forecast[\"month_num\"] = forecast[\"month\"].str.slice(5,7).astype(int)\n",
        "buy_price  = float(forecast.loc[forecast[\"month_num\"]==buy_m, \"price\"].iloc[0])\n",
        "sell_price = float(forecast.loc[forecast[\"month_num\"]==sell_m, \"price\"].iloc[0])\n",
        "\n",
        "months_held = sell_m - buy_m\n",
        "per_pint_cost = buy_price + FREEZE + STORAGE * months_held\n",
        "pints = int(BUDGET // per_pint_cost)\n",
        "\n",
        "# 4) Baseline best profit (should match timings)\n",
        "per_pint_profit = (sell_price * (1 - DISCOUNT)) - per_pint_cost\n",
        "best_profit = per_pint_profit * pints\n",
        "\n",
        "# 5) One-std worse sell price (downward shock)\n",
        "sell_price_worst = sell_price - sell_std\n",
        "per_pint_profit_worst = (sell_price_worst * (1 - DISCOUNT)) - per_pint_cost\n",
        "one_std_profit = per_pint_profit_worst * pints\n",
        "\n",
        "# 6) Save results\n",
        "out = pd.DataFrame({\"best_profit\":[best_profit], \"one_std_profit\":[one_std_profit]})\n",
        "out.to_csv(\"check.tsv\", sep=\"\\t\", index=False)"
      ]
    },
    {
      "cell_type": "markdown",
      "metadata": {
        "id": "M--8x-ZMEKAi"
      },
      "source": [
        "Submit \"check.tsv\" in Gradescope."
      ]
    },
    {
      "cell_type": "markdown",
      "metadata": {
        "id": "usYg0VtaqrGN"
      },
      "source": [
        "## Part 6: Acknowledgments\n",
        "\n",
        "Make a file \"acknowledgments.txt\" documenting any outside sources or help on this project.\n",
        "If you discussed this assignment with anyone, please acknowledge them here.\n",
        "If you used any libraries not mentioned in this module's content, please list them with a brief explanation what you used them for.\n",
        "If you used any generative AI tools, please add links to your transcripts below, and any other information that you feel is necessary to comply with the generative AI policy.\n",
        "If no acknowledgements are appropriate, just write none in the file.\n"
      ]
    },
    {
      "cell_type": "code",
      "execution_count": 11,
      "metadata": {},
      "outputs": [],
      "source": [
        "ack_text = \"\"\"Acknowledgments\n",
        "\n",
        "I used ChatGPT as a study partner to clarify  and check errors, and simplify code while completing this project. \n",
        "\n",
        "\n",
        "For transparency, I am including links to the transcripts of these interactions:\n",
        "\n",
        "1. ChatGPT guidance: [https://chatgpt.com/share/68bbb59b-63d0-8007-a938-1be080ca31e3]\n",
        "\n",
        "These resources document the support I received and ensure compliance with the class generative AI policy.\n",
        "\"\"\"\n",
        "\n",
        "with open(\"acknowledgments.txt\",\"w\") as f:\n",
        "    f.write(ack_text)\n"
      ]
    },
    {
      "cell_type": "markdown",
      "metadata": {
        "id": "dZdLWQD8qvVV"
      },
      "source": [
        "Submit \"acknowledgements.txt\" in Gradescope."
      ]
    },
    {
      "cell_type": "markdown",
      "metadata": {
        "id": "n7ls909LqzkL"
      },
      "source": [
        "## Part 7: Code\n",
        "\n",
        "Please submit a Jupyter notebook that can reproduce all your calculations and recreate the previously submitted files.\n",
        "You do not need to provide code for data collection if you did that by manually."
      ]
    },
    {
      "cell_type": "markdown",
      "metadata": {
        "id": "mtgsTYQIq2pB"
      },
      "source": [
        "Submit \"project.ipynb\" in Gradescope."
      ]
    }
  ],
  "metadata": {
    "colab": {
      "toc_visible": false
    },
    "kernelspec": {
      "display_name": "Python 3",
      "name": "python3"
    },
    "language_info": {
      "codemirror_mode": {
        "name": "ipython",
        "version": 3
      },
      "file_extension": ".py",
      "mimetype": "text/x-python",
      "name": "python",
      "nbconvert_exporter": "python",
      "pygments_lexer": "ipython3",
      "version": "3.12.1"
    }
  },
  "nbformat": 4,
  "nbformat_minor": 0
}
